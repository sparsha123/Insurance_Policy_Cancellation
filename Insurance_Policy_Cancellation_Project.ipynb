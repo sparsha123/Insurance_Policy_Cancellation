{
  "cells": [
    {
      "cell_type": "markdown",
      "metadata": {
        "id": "0_lEuDL4JSNB"
      },
      "source": [
        "# Project: Insurance Policy Cancellation\n",
        "---------------------------------------------\n",
        "\n",
        "\n",
        "\n"
      ]
    },
    {
      "cell_type": "markdown",
      "metadata": {
        "id": "ACRLrWJPPhDD"
      },
      "source": [
        "# Dataset Description\n",
        "The Kangaroo data set is based on 4 years of property insurance policies from 2013 to 2017. There are roughly 1 million policies in the training data and each policy only has one observation. There were almost 230,000 policies canceled during the effective term. Your work is to build a model on the training data and use your best model to predict the cancelation indicator for each policy in test data.\n",
        "\n",
        "Variable descriptions\n",
        "* id - Policy id (cannot be used in model)\n",
        "* tenure - Number of years with Kangaroo\n",
        "* claim.ind - Occurrence of claim (0=no, 1=yes)\n",
        "* n.adults - Number of adults in the property\n",
        "* n.children - Number of children in the property\n",
        "* ni.gender - Gender of policyholder\n",
        "* ni.marital.status - Marital status of policyholder (0=no, 1=yes)\n",
        "* premium - Price of the policy\n",
        "* sales.channel - Medium through which policy was purchased\n",
        "* coverage.type - Type of coverage\n",
        "* dwelling.type - Type of dwelling\n",
        "* len.at.res - Length at residence (how long policyholder lived at property)\n",
        "* credit - Financial credit level of policyholder\n",
        "* house.color - Color of house\n",
        "* ni.age - Age of policholder\n",
        "* year - Year of the policy\n",
        "* zip.code - Zip code of the property\n",
        "* cancel - cancelation indicator (0=not cancel, 1=may cancel but can be convinced, 2=cancel). **This is the response variable.** Dave is deleting the rows where `cancel==-1`!"
      ]
    },
    {
      "cell_type": "markdown",
      "metadata": {
        "id": "Ka8lEsJMKh_5"
      },
      "source": [
        "The train and test files have also been made available to students for modeling on HuskyCT."
      ]
    },
    {
      "cell_type": "code",
      "execution_count": null,
      "metadata": {
        "colab": {
          "base_uri": "https://localhost:8080/"
        },
        "id": "EANyiNl8RpFe",
        "outputId": "944243c7-d1e3-4a1a-f693-acf38ecd84a3"
      },
      "outputs": [
        {
          "output_type": "stream",
          "name": "stdout",
          "text": [
            "Downloading...\n",
            "From: https://drive.google.com/uc?id=1cF4YgsHb6jWoM8s1oMckCE5DXz71dJIr\n",
            "To: /content/X_test.csv\n",
            "100% 31.5M/31.5M [00:00<00:00, 177MB/s]\n",
            "Downloading...\n",
            "From: https://drive.google.com/uc?id=1k8asF0dptYNn1DFkylSEpr0D9FstpIO4\n",
            "To: /content/X_train.csv\n",
            "100% 63.9M/63.9M [00:00<00:00, 129MB/s]\n",
            "Downloading...\n",
            "From: https://drive.google.com/uc?id=1nldFnY3-FBKDvfpyLXjD9uxm7d7SLo6n\n",
            "To: /content/y_test.csv\n",
            "100% 690k/690k [00:00<00:00, 38.6MB/s]\n",
            "Downloading...\n",
            "From: https://drive.google.com/uc?id=1VirvGGFaqg1ifPjgO0MzHg3Bc7KuwotG\n",
            "To: /content/y_train.csv\n",
            "100% 1.40M/1.40M [00:00<00:00, 22.5MB/s]\n"
          ]
        }
      ],
      "source": [
        "# https://drive.google.com/file/d/1cF4YgsHb6jWoM8s1oMckCE5DXz71dJIr/view?usp=share_link\n",
        "# https://drive.google.com/file/d/1k8asF0dptYNn1DFkylSEpr0D9FstpIO4/view?usp=share_link\n",
        "# https://drive.google.com/file/d/1nldFnY3-FBKDvfpyLXjD9uxm7d7SLo6n/view?usp=share_link\n",
        "# https://drive.google.com/file/d/1VirvGGFaqg1ifPjgO0MzHg3Bc7KuwotG/view?usp=share_link\n",
        "\n",
        "!gdown 1cF4YgsHb6jWoM8s1oMckCE5DXz71dJIr\n",
        "!gdown 1k8asF0dptYNn1DFkylSEpr0D9FstpIO4\n",
        "!gdown 1nldFnY3-FBKDvfpyLXjD9uxm7d7SLo6n\n",
        "!gdown 1VirvGGFaqg1ifPjgO0MzHg3Bc7KuwotG"
      ]
    },
    {
      "cell_type": "markdown",
      "metadata": {
        "id": "_CRM7HW8qvwB"
      },
      "source": [
        "![picture](https://d2slcw3kip6qmk.cloudfront.net/marketing/blog/2018Q2/business-analysis-models/business-analysis-models-header@2x.png)\n",
        "\n",
        "\n",
        "\n",
        "\n",
        "\n",
        "\n",
        "\n",
        "\n",
        "\n"
      ]
    },
    {
      "cell_type": "markdown",
      "metadata": {
        "id": "KFeILdg7AYQ_"
      },
      "source": [
        "#Loading the data"
      ]
    },
    {
      "cell_type": "code",
      "execution_count": null,
      "metadata": {
        "colab": {
          "base_uri": "https://localhost:8080/",
          "height": 206
        },
        "id": "pNSFt1HOAgdB",
        "outputId": "1a256d42-d19c-474a-bcbf-d08f4d32130a"
      },
      "outputs": [
        {
          "output_type": "execute_result",
          "data": {
            "text/plain": [
              "   cancel\n",
              "0       0\n",
              "1       0\n",
              "2       0\n",
              "3       0\n",
              "4       2"
            ],
            "text/html": [
              "\n",
              "  <div id=\"df-61d13ac7-0662-4816-a4ca-fb35efd98186\">\n",
              "    <div class=\"colab-df-container\">\n",
              "      <div>\n",
              "<style scoped>\n",
              "    .dataframe tbody tr th:only-of-type {\n",
              "        vertical-align: middle;\n",
              "    }\n",
              "\n",
              "    .dataframe tbody tr th {\n",
              "        vertical-align: top;\n",
              "    }\n",
              "\n",
              "    .dataframe thead th {\n",
              "        text-align: right;\n",
              "    }\n",
              "</style>\n",
              "<table border=\"1\" class=\"dataframe\">\n",
              "  <thead>\n",
              "    <tr style=\"text-align: right;\">\n",
              "      <th></th>\n",
              "      <th>cancel</th>\n",
              "    </tr>\n",
              "  </thead>\n",
              "  <tbody>\n",
              "    <tr>\n",
              "      <th>0</th>\n",
              "      <td>0</td>\n",
              "    </tr>\n",
              "    <tr>\n",
              "      <th>1</th>\n",
              "      <td>0</td>\n",
              "    </tr>\n",
              "    <tr>\n",
              "      <th>2</th>\n",
              "      <td>0</td>\n",
              "    </tr>\n",
              "    <tr>\n",
              "      <th>3</th>\n",
              "      <td>0</td>\n",
              "    </tr>\n",
              "    <tr>\n",
              "      <th>4</th>\n",
              "      <td>2</td>\n",
              "    </tr>\n",
              "  </tbody>\n",
              "</table>\n",
              "</div>\n",
              "      <button class=\"colab-df-convert\" onclick=\"convertToInteractive('df-61d13ac7-0662-4816-a4ca-fb35efd98186')\"\n",
              "              title=\"Convert this dataframe to an interactive table.\"\n",
              "              style=\"display:none;\">\n",
              "        \n",
              "  <svg xmlns=\"http://www.w3.org/2000/svg\" height=\"24px\"viewBox=\"0 0 24 24\"\n",
              "       width=\"24px\">\n",
              "    <path d=\"M0 0h24v24H0V0z\" fill=\"none\"/>\n",
              "    <path d=\"M18.56 5.44l.94 2.06.94-2.06 2.06-.94-2.06-.94-.94-2.06-.94 2.06-2.06.94zm-11 1L8.5 8.5l.94-2.06 2.06-.94-2.06-.94L8.5 2.5l-.94 2.06-2.06.94zm10 10l.94 2.06.94-2.06 2.06-.94-2.06-.94-.94-2.06-.94 2.06-2.06.94z\"/><path d=\"M17.41 7.96l-1.37-1.37c-.4-.4-.92-.59-1.43-.59-.52 0-1.04.2-1.43.59L10.3 9.45l-7.72 7.72c-.78.78-.78 2.05 0 2.83L4 21.41c.39.39.9.59 1.41.59.51 0 1.02-.2 1.41-.59l7.78-7.78 2.81-2.81c.8-.78.8-2.07 0-2.86zM5.41 20L4 18.59l7.72-7.72 1.47 1.35L5.41 20z\"/>\n",
              "  </svg>\n",
              "      </button>\n",
              "      \n",
              "  <style>\n",
              "    .colab-df-container {\n",
              "      display:flex;\n",
              "      flex-wrap:wrap;\n",
              "      gap: 12px;\n",
              "    }\n",
              "\n",
              "    .colab-df-convert {\n",
              "      background-color: #E8F0FE;\n",
              "      border: none;\n",
              "      border-radius: 50%;\n",
              "      cursor: pointer;\n",
              "      display: none;\n",
              "      fill: #1967D2;\n",
              "      height: 32px;\n",
              "      padding: 0 0 0 0;\n",
              "      width: 32px;\n",
              "    }\n",
              "\n",
              "    .colab-df-convert:hover {\n",
              "      background-color: #E2EBFA;\n",
              "      box-shadow: 0px 1px 2px rgba(60, 64, 67, 0.3), 0px 1px 3px 1px rgba(60, 64, 67, 0.15);\n",
              "      fill: #174EA6;\n",
              "    }\n",
              "\n",
              "    [theme=dark] .colab-df-convert {\n",
              "      background-color: #3B4455;\n",
              "      fill: #D2E3FC;\n",
              "    }\n",
              "\n",
              "    [theme=dark] .colab-df-convert:hover {\n",
              "      background-color: #434B5C;\n",
              "      box-shadow: 0px 1px 3px 1px rgba(0, 0, 0, 0.15);\n",
              "      filter: drop-shadow(0px 1px 2px rgba(0, 0, 0, 0.3));\n",
              "      fill: #FFFFFF;\n",
              "    }\n",
              "  </style>\n",
              "\n",
              "      <script>\n",
              "        const buttonEl =\n",
              "          document.querySelector('#df-61d13ac7-0662-4816-a4ca-fb35efd98186 button.colab-df-convert');\n",
              "        buttonEl.style.display =\n",
              "          google.colab.kernel.accessAllowed ? 'block' : 'none';\n",
              "\n",
              "        async function convertToInteractive(key) {\n",
              "          const element = document.querySelector('#df-61d13ac7-0662-4816-a4ca-fb35efd98186');\n",
              "          const dataTable =\n",
              "            await google.colab.kernel.invokeFunction('convertToInteractive',\n",
              "                                                     [key], {});\n",
              "          if (!dataTable) return;\n",
              "\n",
              "          const docLinkHtml = 'Like what you see? Visit the ' +\n",
              "            '<a target=\"_blank\" href=https://colab.research.google.com/notebooks/data_table.ipynb>data table notebook</a>'\n",
              "            + ' to learn more about interactive tables.';\n",
              "          element.innerHTML = '';\n",
              "          dataTable['output_type'] = 'display_data';\n",
              "          await google.colab.output.renderOutput(dataTable, element);\n",
              "          const docLink = document.createElement('div');\n",
              "          docLink.innerHTML = docLinkHtml;\n",
              "          element.appendChild(docLink);\n",
              "        }\n",
              "      </script>\n",
              "    </div>\n",
              "  </div>\n",
              "  "
            ]
          },
          "metadata": {},
          "execution_count": 2
        }
      ],
      "source": [
        "# Load data\n",
        "import numpy as nm\n",
        "import pandas as pd\n",
        "from pylab import *\n",
        "X_train=pd.read_csv(\"/content/X_train.csv\")\n",
        "X_test=pd.read_csv(\"/content/X_test.csv\")\n",
        "y_train=pd.read_csv(\"/content/y_train.csv\")\n",
        "y_test=pd.read_csv(\"/content/y_test.csv\")\n",
        "X_train.head()\n",
        "X_test.head()\n",
        "y_train.head()\n",
        "y_test.head()\n"
      ]
    },
    {
      "cell_type": "code",
      "execution_count": null,
      "metadata": {
        "colab": {
          "base_uri": "https://localhost:8080/"
        },
        "id": "NTPG9xwbAsp_",
        "outputId": "d5ac86c1-e2d4-44b9-b82b-9f1ee66cde3e"
      },
      "outputs": [
        {
          "output_type": "stream",
          "name": "stdout",
          "text": [
            "(700232, 17) (344891, 17) (700232, 1) (344891, 1)\n"
          ]
        }
      ],
      "source": [
        "#shape of data before dropping null values\n",
        "print(X_train.shape, X_test.shape,y_train.shape,y_test.shape)"
      ]
    },
    {
      "cell_type": "markdown",
      "metadata": {
        "id": "_EsqUVw7Av4B"
      },
      "source": [
        "#Data Cleaning and EDA"
      ]
    },
    {
      "cell_type": "markdown",
      "metadata": {
        "id": "CYymrvipLbOR"
      },
      "source": [
        "##Dropping ID column"
      ]
    },
    {
      "cell_type": "code",
      "execution_count": null,
      "metadata": {
        "id": "s38nw96lLgtU"
      },
      "outputs": [],
      "source": [
        "X_train.drop('id',axis=1,inplace = True)\n",
        "X_test.drop('id',axis=1,inplace=True)"
      ]
    },
    {
      "cell_type": "markdown",
      "metadata": {
        "id": "SifMS241CIuU"
      },
      "source": [
        "##Handling Missing Values"
      ]
    },
    {
      "cell_type": "markdown",
      "metadata": {
        "id": "tDy9dPiAmQPb"
      },
      "source": [
        "###Concatenating"
      ]
    },
    {
      "cell_type": "code",
      "execution_count": null,
      "metadata": {
        "id": "j-TH6yxUmTdI"
      },
      "outputs": [],
      "source": [
        "train_all = pd.concat([X_train,y_train],axis=1) # Concatenating the training data\n",
        "\n",
        "test_all = pd.concat([X_test,y_test],axis=1) # Concatenating the test data"
      ]
    },
    {
      "cell_type": "code",
      "execution_count": null,
      "metadata": {
        "colab": {
          "base_uri": "https://localhost:8080/"
        },
        "id": "D-RLIzUuCHlX",
        "outputId": "4789336c-3346-4c9c-8dd8-ca6fb70dd508"
      },
      "outputs": [
        {
          "output_type": "stream",
          "name": "stdout",
          "text": [
            "(700232, 17) (344891, 17)\n"
          ]
        }
      ],
      "source": [
        "\n",
        "print(train_all.shape,test_all.shape)"
      ]
    },
    {
      "cell_type": "markdown",
      "metadata": {
        "id": "FPipFJE5sPnE"
      },
      "source": [
        "###Displaying number of Null values"
      ]
    },
    {
      "cell_type": "code",
      "execution_count": null,
      "metadata": {
        "colab": {
          "base_uri": "https://localhost:8080/"
        },
        "id": "WHH3FqxumweS",
        "outputId": "8bf45e64-b243-4f2c-e889-0df44c7e2d76"
      },
      "outputs": [
        {
          "output_type": "execute_result",
          "data": {
            "text/plain": [
              "year                   0\n",
              "zip.code             313\n",
              "house.color          319\n",
              "ni.age               293\n",
              "len.at.res           295\n",
              "credit               289\n",
              "coverage.type        316\n",
              "dwelling.type        339\n",
              "premium              331\n",
              "sales.channel        324\n",
              "ni.gender            314\n",
              "ni.marital.status    345\n",
              "n.adults             323\n",
              "n.children           319\n",
              "tenure               323\n",
              "claim.ind            324\n",
              "cancel                 0\n",
              "dtype: int64"
            ]
          },
          "metadata": {},
          "execution_count": 7
        }
      ],
      "source": [
        "train_all.isna().sum()\n",
        "test_all.isna().sum()"
      ]
    },
    {
      "cell_type": "markdown",
      "metadata": {
        "id": "oXTQ6TpysbSE"
      },
      "source": [
        "###Imputation- for numeric variables"
      ]
    },
    {
      "cell_type": "code",
      "execution_count": null,
      "metadata": {
        "colab": {
          "base_uri": "https://localhost:8080/"
        },
        "id": "xeCwgNDYnBQ2",
        "outputId": "c1ecd82e-84c5-47ac-a998-1fc6d05820ff"
      },
      "outputs": [
        {
          "output_type": "stream",
          "name": "stderr",
          "text": [
            "<ipython-input-8-9496e2626454>:1: FutureWarning: The default value of numeric_only in DataFrame.mean is deprecated. In a future version, it will default to False. In addition, specifying 'numeric_only=None' is deprecated. Select only valid columns or specify the value of numeric_only to silence this warning.\n",
            "  train_all_cleaned = train_all.fillna(train_all.mean())\n",
            "<ipython-input-8-9496e2626454>:2: FutureWarning: The default value of numeric_only in DataFrame.mean is deprecated. In a future version, it will default to False. In addition, specifying 'numeric_only=None' is deprecated. Select only valid columns or specify the value of numeric_only to silence this warning.\n",
            "  test_all_cleaned = test_all.fillna(test_all.mean())\n"
          ]
        }
      ],
      "source": [
        "train_all_cleaned = train_all.fillna(train_all.mean())\n",
        "test_all_cleaned = test_all.fillna(test_all.mean())"
      ]
    },
    {
      "cell_type": "code",
      "execution_count": null,
      "metadata": {
        "colab": {
          "base_uri": "https://localhost:8080/"
        },
        "id": "OAG02rxGnGjY",
        "outputId": "40546c06-c072-4ba0-83d0-b1c390d8ea1b"
      },
      "outputs": [
        {
          "output_type": "execute_result",
          "data": {
            "text/plain": [
              "year                   0\n",
              "zip.code               0\n",
              "house.color          319\n",
              "ni.age                 0\n",
              "len.at.res             0\n",
              "credit               289\n",
              "coverage.type        316\n",
              "dwelling.type        339\n",
              "premium                0\n",
              "sales.channel        324\n",
              "ni.gender            314\n",
              "ni.marital.status      0\n",
              "n.adults               0\n",
              "n.children             0\n",
              "tenure                 0\n",
              "claim.ind              0\n",
              "cancel                 0\n",
              "dtype: int64"
            ]
          },
          "metadata": {},
          "execution_count": 9
        }
      ],
      "source": [
        "train_all_cleaned.isna().sum()\n",
        "test_all_cleaned.isna().sum()"
      ]
    },
    {
      "cell_type": "markdown",
      "metadata": {
        "id": "YchJbDCusoX5"
      },
      "source": [
        "###Imputation- for categorical variables"
      ]
    },
    {
      "cell_type": "code",
      "execution_count": null,
      "metadata": {
        "id": "yTPUuUO_oE2Q"
      },
      "outputs": [],
      "source": [
        "# Find the mode of the  variables\n",
        "mode = train_all_cleaned['house.color'].mode()[0]\n",
        "mode = test_all_cleaned['house.color'].mode()[0]\n",
        "\n",
        "# Fill the missing values with the mode\n",
        "train_all_cleaned['house.color'].fillna(mode, inplace=True)\n",
        "test_all_cleaned['house.color'].fillna(mode, inplace=True)\n",
        "\n",
        "# Find the mode of the  variables\n",
        "mode = train_all_cleaned['credit'].mode()[0]\n",
        "mode = test_all_cleaned['credit'].mode()[0]\n",
        "\n",
        "# Fill the missing values with the mode\n",
        "train_all_cleaned['credit'].fillna(mode, inplace=True)\n",
        "test_all_cleaned['credit'].fillna(mode, inplace=True)\n",
        "\n",
        "# Find the mode of the  variables\n",
        "mode = train_all_cleaned['coverage.type'].mode()[0]\n",
        "mode = test_all_cleaned['coverage.type'].mode()[0]\n",
        "\n",
        "# Fill the missing values with the mode\n",
        "train_all_cleaned['coverage.type'].fillna(mode, inplace=True)\n",
        "test_all_cleaned['coverage.type'].fillna(mode, inplace=True)\n",
        "\n",
        "# Find the mode of the  variables\n",
        "mode = train_all_cleaned['dwelling.type'].mode()[0]\n",
        "mode = test_all_cleaned['dwelling.type'].mode()[0]\n",
        "\n",
        "# Fill the missing values with the mode\n",
        "train_all_cleaned['dwelling.type'].fillna(mode, inplace=True)\n",
        "test_all_cleaned['dwelling.type'].fillna(mode, inplace=True)\n",
        "\n",
        "# Find the mode of the  variables\n",
        "mode = train_all_cleaned['sales.channel'].mode()[0]\n",
        "mode = test_all_cleaned['sales.channel'].mode()[0]\n",
        "\n",
        "# Fill the missing values with the mode\n",
        "train_all_cleaned['sales.channel'].fillna(mode, inplace=True)\n",
        "test_all_cleaned['sales.channel'].fillna(mode, inplace=True)\n",
        "\n",
        "# Find the mode of the  variables\n",
        "mode = train_all_cleaned['ni.gender'].mode()[0]\n",
        "mode = test_all_cleaned['ni.gender'].mode()[0]\n",
        "\n",
        "# Fill the missing values with the mode\n",
        "train_all_cleaned['ni.gender'].fillna(mode, inplace=True)\n",
        "test_all_cleaned['ni.gender'].fillna(mode, inplace=True)\n"
      ]
    },
    {
      "cell_type": "code",
      "execution_count": null,
      "metadata": {
        "colab": {
          "base_uri": "https://localhost:8080/"
        },
        "id": "5AJmBunKoOVm",
        "outputId": "2759f86c-4a42-4e48-d393-25f4507097f5"
      },
      "outputs": [
        {
          "output_type": "execute_result",
          "data": {
            "text/plain": [
              "year                 0\n",
              "zip.code             0\n",
              "house.color          0\n",
              "ni.age               0\n",
              "len.at.res           0\n",
              "credit               0\n",
              "coverage.type        0\n",
              "dwelling.type        0\n",
              "premium              0\n",
              "sales.channel        0\n",
              "ni.gender            0\n",
              "ni.marital.status    0\n",
              "n.adults             0\n",
              "n.children           0\n",
              "tenure               0\n",
              "claim.ind            0\n",
              "cancel               0\n",
              "dtype: int64"
            ]
          },
          "metadata": {},
          "execution_count": 11
        }
      ],
      "source": [
        "train_all_cleaned.isna().sum()\n"
      ]
    },
    {
      "cell_type": "code",
      "execution_count": null,
      "metadata": {
        "colab": {
          "base_uri": "https://localhost:8080/"
        },
        "id": "q3V49Jn_psOG",
        "outputId": "90d5c6bb-043f-4887-d43f-1c46f349493e"
      },
      "outputs": [
        {
          "output_type": "execute_result",
          "data": {
            "text/plain": [
              "year                 0\n",
              "zip.code             0\n",
              "house.color          0\n",
              "ni.age               0\n",
              "len.at.res           0\n",
              "credit               0\n",
              "coverage.type        0\n",
              "dwelling.type        0\n",
              "premium              0\n",
              "sales.channel        0\n",
              "ni.gender            0\n",
              "ni.marital.status    0\n",
              "n.adults             0\n",
              "n.children           0\n",
              "tenure               0\n",
              "claim.ind            0\n",
              "cancel               0\n",
              "dtype: int64"
            ]
          },
          "metadata": {},
          "execution_count": 12
        }
      ],
      "source": [
        "test_all_cleaned.isna().sum()"
      ]
    },
    {
      "cell_type": "code",
      "execution_count": null,
      "metadata": {
        "colab": {
          "base_uri": "https://localhost:8080/"
        },
        "id": "2S-FS_4NcWjn",
        "outputId": "dde5e0e8-acef-402b-a78a-0b15edfaf52c"
      },
      "outputs": [
        {
          "output_type": "execute_result",
          "data": {
            "text/plain": [
              "(700232, 16)"
            ]
          },
          "metadata": {},
          "execution_count": 13
        }
      ],
      "source": [
        "df1 = train_all_cleaned.drop(['cancel'],axis=1)\n",
        "df1.shape"
      ]
    },
    {
      "cell_type": "markdown",
      "metadata": {
        "id": "saWjGMIyqbC5"
      },
      "source": [
        "###Splitting back"
      ]
    },
    {
      "cell_type": "code",
      "execution_count": null,
      "metadata": {
        "colab": {
          "base_uri": "https://localhost:8080/"
        },
        "id": "yOhl8mECqaTL",
        "outputId": "6a4dd03d-761c-4d60-f58e-43235aedfca8"
      },
      "outputs": [
        {
          "output_type": "stream",
          "name": "stdout",
          "text": [
            "(700232, 16) (700232, 1)\n"
          ]
        }
      ],
      "source": [
        "# Since X_train doesn't have cancel column in X_train we make use of the drop() function to drop the column and y_train will be consisting of only cancel column\n",
        "X_train = train_all_cleaned.drop(['cancel'],axis=1)\n",
        "# Since we only take once column python might take it as Series object so we convert that into a DataFrame object\n",
        "y_train = pd.DataFrame(train_all_cleaned['cancel'])\n",
        "# Checking the shape of each of the train dataset\n",
        "print(X_train.shape, y_train.shape)\n",
        "\n"
      ]
    },
    {
      "cell_type": "code",
      "execution_count": null,
      "metadata": {
        "colab": {
          "base_uri": "https://localhost:8080/"
        },
        "id": "RZRZh_MxqjZN",
        "outputId": "485eb3cb-5c07-4539-aff5-966a128bf98c"
      },
      "outputs": [
        {
          "output_type": "stream",
          "name": "stdout",
          "text": [
            "(344891, 16) (344891, 1)\n"
          ]
        }
      ],
      "source": [
        "# Since X_train doesn't have cancel column in X_train we make use of the drop() function to drop the column and y_train will be consisting of only cancel column\n",
        "X_test = test_all_cleaned.drop(['cancel'],axis=1)\n",
        "# Since we only take once column python might take it as Series object so we convert that into a DataFrame object\n",
        "y_test = pd.DataFrame(test_all_cleaned['cancel'])\n",
        "# Checking the shape of each of the train dataset\n",
        "print(X_test.shape, y_test.shape)"
      ]
    },
    {
      "cell_type": "markdown",
      "source": [
        "### Correlations"
      ],
      "metadata": {
        "id": "k2OknQtd5ruH"
      }
    },
    {
      "cell_type": "code",
      "execution_count": null,
      "metadata": {
        "colab": {
          "base_uri": "https://localhost:8080/"
        },
        "id": "SrWPmvR8c6kS",
        "outputId": "67e0bf93-602b-445f-a385-814d7c486d0b"
      },
      "outputs": [
        {
          "output_type": "stream",
          "name": "stderr",
          "text": [
            "<ipython-input-16-c280a340f1ef>:2: FutureWarning: The default value of numeric_only in DataFrame.corr is deprecated. In a future version, it will default to False. Select only valid columns or specify the value of numeric_only to silence this warning.\n",
            "  corr_matrix = pd.concat([X_train, y_train], axis=1).corr()\n"
          ]
        },
        {
          "output_type": "stream",
          "name": "stdout",
          "text": [
            "Correlation between X_train and y_train:\n",
            "year                -0.020495\n",
            "zip.code             0.012265\n",
            "ni.age              -0.102963\n",
            "len.at.res          -0.040072\n",
            "premium             -0.027120\n",
            "ni.marital.status   -0.024788\n",
            "n.adults             0.041381\n",
            "n.children           0.089021\n",
            "tenure              -0.028853\n",
            "claim.ind            0.067014\n",
            "Name: cancel, dtype: float64\n"
          ]
        }
      ],
      "source": [
        "# Find the correlation matrix between X_train and y_train\n",
        "corr_matrix = pd.concat([X_train, y_train], axis=1).corr()\n",
        "\n",
        "# Extract the correlation between X_train and y_train\n",
        "corr_Xy = corr_matrix.iloc[:-1, -1]\n",
        "\n",
        "# Print the correlations\n",
        "print(\"Correlation between X_train and y_train:\")\n",
        "print(corr_Xy)\n"
      ]
    },
    {
      "cell_type": "markdown",
      "metadata": {
        "id": "WpjZYJndqwnc"
      },
      "source": [
        "###Plots and Heat Map"
      ]
    },
    {
      "cell_type": "markdown",
      "metadata": {
        "id": "ixXwc7Vkck8N"
      },
      "source": [
        "####Heat Map"
      ]
    },
    {
      "cell_type": "code",
      "execution_count": null,
      "metadata": {
        "colab": {
          "base_uri": "https://localhost:8080/",
          "height": 935
        },
        "id": "WwZEnVqscwPT",
        "outputId": "4208644d-66ea-4034-80f0-c01527313203"
      },
      "outputs": [
        {
          "output_type": "display_data",
          "data": {
            "text/plain": [
              "<Figure size 1200x1000 with 2 Axes>"
            ],
            "image/png": "[encoded data removed]"
          },
          "metadata": {}
        }
      ],
      "source": [
        "import seaborn as sns\n",
        "# create a figure object with a specific size\n",
        "fig = plt.figure(figsize=(12, 10))\n",
        "\n",
        "# creating heatmap to show correlation between variables\n",
        "sns.heatmap(corr_matrix, annot=True, cmap='coolwarm')\n",
        "# to display the heat map\n",
        "plt.show()"
      ]
    },
    {
      "cell_type": "markdown",
      "source": [
        "The above Heat Map gives information about relationship among the variables present in the data set.  "
      ],
      "metadata": {
        "id": "7P1ZFJ-_2AhT"
      }
    },
    {
      "cell_type": "code",
      "source": [
        "# Building plots against the cancellation indicator"
      ],
      "metadata": {
        "id": "ZREo0GE-8FPr"
      },
      "execution_count": null,
      "outputs": []
    },
    {
      "cell_type": "markdown",
      "metadata": {
        "id": "QplJ5h4cCk6O"
      },
      "source": [
        "####Cancel vs Credit Plot"
      ]
    },
    {
      "cell_type": "code",
      "execution_count": null,
      "metadata": {
        "colab": {
          "base_uri": "https://localhost:8080/",
          "height": 601
        },
        "id": "d3PMmmAyCr7T",
        "outputId": "6987c726-4505-443d-fa63-3f14a1e43f1e"
      },
      "outputs": [
        {
          "output_type": "stream",
          "name": "stdout",
          "text": [
            "cancel       0      1      2\n",
            "credit                      \n",
            "high    342856  20873  69307\n",
            "low      55095  13186  46229\n",
            "medium   98591  16451  37644\n"
          ]
        },
        {
          "output_type": "execute_result",
          "data": {
            "text/plain": [
              "<Axes: xlabel='credit'>"
            ]
          },
          "metadata": {},
          "execution_count": 18
        },
        {
          "output_type": "display_data",
          "data": {
            "text/plain": [
              "<Figure size 640x480 with 1 Axes>"
            ],
            "image/png": "[encoded data removed]"
          },
          "metadata": {}
        }
      ],
      "source": [
        "import matplotlib.pyplot as plt\n",
        "cancel_credit=pd.crosstab(index=X_train['credit'],columns=y_train['cancel'])\n",
        "print(cancel_credit)\n",
        "\n",
        "cancel_credit.plot.bar()"
      ]
    },
    {
      "cell_type": "markdown",
      "source": [
        "From the above plot we can observe that there are highest number of uncancelled policies that belonged to the policyholders with high credit also they had highest policies that may cancel and have been cancelled. We can say that the policy holders with high credit level take most number of policies."
      ],
      "metadata": {
        "id": "Qc3Ox1xk0An-"
      }
    },
    {
      "cell_type": "markdown",
      "metadata": {
        "id": "sxqeVvAfC1gW"
      },
      "source": [
        "####Cancel vs Coverage Type Plot"
      ]
    },
    {
      "cell_type": "code",
      "execution_count": null,
      "metadata": {
        "colab": {
          "base_uri": "https://localhost:8080/",
          "height": 554
        },
        "id": "lt_fR28TC4rO",
        "outputId": "db1cc12e-0474-4527-ee06-a0be71ac6550"
      },
      "outputs": [
        {
          "output_type": "stream",
          "name": "stdout",
          "text": [
            "cancel              0      1      2\n",
            "coverage.type                      \n",
            "A              171973  16442  49753\n",
            "B              119259  11975  36607\n",
            "C              205310  22093  66820\n"
          ]
        },
        {
          "output_type": "execute_result",
          "data": {
            "text/plain": [
              "<Axes: xlabel='coverage.type'>"
            ]
          },
          "metadata": {},
          "execution_count": 19
        },
        {
          "output_type": "display_data",
          "data": {
            "text/plain": [
              "<Figure size 640x480 with 1 Axes>"
            ],
            "image/png": "[encoded data removed]"
          },
          "metadata": {}
        }
      ],
      "source": [
        "cancel_coverage_type=pd.crosstab(index=X_train['coverage.type'],columns=y_train['cancel'])\n",
        "print(cancel_coverage_type)\n",
        "cancel_coverage_type.plot.bar()\n"
      ]
    },
    {
      "cell_type": "markdown",
      "source": [
        "From the above plot we can observe that the policy holders with C type of coverage take the highest policies and B type takes the least."
      ],
      "metadata": {
        "id": "PJDPxj7W0D3J"
      }
    },
    {
      "cell_type": "markdown",
      "metadata": {
        "id": "Ts2k3hBcC9s1"
      },
      "source": [
        "####Cancel vs Dwelling Type Plot"
      ]
    },
    {
      "cell_type": "code",
      "execution_count": null,
      "metadata": {
        "colab": {
          "base_uri": "https://localhost:8080/",
          "height": 591
        },
        "id": "e7sdgBQPDAmf",
        "outputId": "97cbcc2c-8f9b-457f-d9fc-248babf054a1"
      },
      "outputs": [
        {
          "output_type": "stream",
          "name": "stdout",
          "text": [
            "cancel              0      1      2\n",
            "dwelling.type                      \n",
            "Condo          116684  12830  38441\n",
            "House          285164  26519  81673\n",
            "Tenant          94694  11161  33066\n"
          ]
        },
        {
          "output_type": "execute_result",
          "data": {
            "text/plain": [
              "<Axes: xlabel='dwelling.type'>"
            ]
          },
          "metadata": {},
          "execution_count": 20
        },
        {
          "output_type": "display_data",
          "data": {
            "text/plain": [
              "<Figure size 640x480 with 1 Axes>"
            ],
            "image/png": "[encoded data removed]"
          },
          "metadata": {}
        }
      ],
      "source": [
        "cancel_dwelling_type=pd.crosstab(index=X_train['dwelling.type'],columns=y_train['cancel'])\n",
        "print(cancel_dwelling_type)\n",
        "cancel_dwelling_type.plot.bar()\n"
      ]
    },
    {
      "cell_type": "markdown",
      "source": [
        "From the above plot we can observe that House type of dwelling make the highest number of policies."
      ],
      "metadata": {
        "id": "vwcKoMUM0H8X"
      }
    },
    {
      "cell_type": "markdown",
      "metadata": {
        "id": "mJKslvV_DBIX"
      },
      "source": [
        "####Cancel vs Sales Channel Plot"
      ]
    },
    {
      "cell_type": "code",
      "execution_count": null,
      "metadata": {
        "colab": {
          "base_uri": "https://localhost:8080/",
          "height": 590
        },
        "id": "eu_Q10kfDG7Q",
        "outputId": "ac7bdb12-c37a-47d9-8af0-34924808c0b2"
      },
      "outputs": [
        {
          "output_type": "stream",
          "name": "stdout",
          "text": [
            "cancel              0      1      2\n",
            "sales.channel                      \n",
            "Broker         319412  20518  67375\n",
            "Online          36961   5654  16712\n",
            "Phone          140169  24338  69093\n"
          ]
        },
        {
          "output_type": "execute_result",
          "data": {
            "text/plain": [
              "<Axes: xlabel='sales.channel'>"
            ]
          },
          "metadata": {},
          "execution_count": 21
        },
        {
          "output_type": "display_data",
          "data": {
            "text/plain": [
              "<Figure size 640x480 with 1 Axes>"
            ],
            "image/png": "[encoded data removed]"
          },
          "metadata": {}
        }
      ],
      "source": [
        "cancel_sales_channel=pd.crosstab(index=X_train['sales.channel'],columns=y_train['cancel'])\n",
        "print(cancel_sales_channel)\n",
        "cancel_sales_channel.plot.bar()"
      ]
    },
    {
      "cell_type": "markdown",
      "source": [
        "From the above plot we observe that the policies taken through online sale channel are the least and they tend to be cancelled less than the one taken through other channels. Also we see that the highest number of policies are taken through Broker."
      ],
      "metadata": {
        "id": "KpwEJA530MYi"
      }
    },
    {
      "cell_type": "markdown",
      "metadata": {
        "id": "wmyQHkfgDKQB"
      },
      "source": [
        "####Cancel vs Gender Plot"
      ]
    },
    {
      "cell_type": "code",
      "execution_count": null,
      "metadata": {
        "colab": {
          "base_uri": "https://localhost:8080/",
          "height": 538
        },
        "id": "lSk8F7noDLDT",
        "outputId": "25ebe6ee-bb1d-4353-9192-57de3d5b6443"
      },
      "outputs": [
        {
          "output_type": "stream",
          "name": "stdout",
          "text": [
            "cancel          0      1      2\n",
            "ni.gender                      \n",
            "F          238212  24115  73246\n",
            "M          258330  26395  79934\n"
          ]
        },
        {
          "output_type": "execute_result",
          "data": {
            "text/plain": [
              "<Axes: xlabel='ni.gender'>"
            ]
          },
          "metadata": {},
          "execution_count": 22
        },
        {
          "output_type": "display_data",
          "data": {
            "text/plain": [
              "<Figure size 640x480 with 1 Axes>"
            ],
            "image/png": "[encoded data removed]"
          },
          "metadata": {}
        }
      ],
      "source": [
        "cancel_gender=pd.crosstab(index=X_train['ni.gender'],columns=y_train['cancel'])\n",
        "print(cancel_gender)\n",
        "cancel_gender.plot.bar()"
      ]
    },
    {
      "cell_type": "markdown",
      "source": [
        "From the obove plot we can observe that highest number of policies are taken by males."
      ],
      "metadata": {
        "id": "Bk14BeGd0SZo"
      }
    },
    {
      "cell_type": "markdown",
      "metadata": {
        "id": "LFEJjaGPDONq"
      },
      "source": [
        "####Cancel vs Marital Status Plot"
      ]
    },
    {
      "cell_type": "code",
      "execution_count": null,
      "metadata": {
        "colab": {
          "base_uri": "https://localhost:8080/",
          "height": 698
        },
        "id": "VD3I5VkTDRUq",
        "outputId": "f6ca9694-569c-44c0-c721-fb6770bed3d5"
      },
      "outputs": [
        {
          "output_type": "stream",
          "name": "stdout",
          "text": [
            "cancel                  0      1       2\n",
            "ni.marital.status                       \n",
            "0.000000           139514  16037   46814\n",
            "0.710736              473     47     127\n",
            "1.000000           356555  34426  106239\n"
          ]
        },
        {
          "output_type": "execute_result",
          "data": {
            "text/plain": [
              "<Axes: xlabel='ni.marital.status'>"
            ]
          },
          "metadata": {},
          "execution_count": 23
        },
        {
          "output_type": "display_data",
          "data": {
            "text/plain": [
              "<Figure size 640x480 with 1 Axes>"
            ],
            "image/png": "[encoded data removed]"
          },
          "metadata": {}
        }
      ],
      "source": [
        "cancel_marital=pd.crosstab(index=X_train['ni.marital.status'],columns=y_train['cancel'])\n",
        "print(cancel_marital)\n",
        "cancel_marital.plot.bar()"
      ]
    },
    {
      "cell_type": "markdown",
      "source": [
        "From the above plot we can observe that the married people take the highest number of policies."
      ],
      "metadata": {
        "id": "SYHwOfyg0X6l"
      }
    },
    {
      "cell_type": "markdown",
      "metadata": {
        "id": "OpbosgjhDXLq"
      },
      "source": [
        "####Cancel vs Claim.ind Plot\n"
      ]
    },
    {
      "cell_type": "code",
      "execution_count": null,
      "metadata": {
        "colab": {
          "base_uri": "https://localhost:8080/",
          "height": 708
        },
        "id": "frYL6P75DX9c",
        "outputId": "ac57af3d-f099-4460-a487-6d66fce212b5"
      },
      "outputs": [
        {
          "output_type": "stream",
          "name": "stdout",
          "text": [
            "cancel          0      1       2\n",
            "claim.ind                       \n",
            "0.000000   406342  37823  116101\n",
            "0.199133      475     53     130\n",
            "1.000000    89725  12634   36949\n"
          ]
        },
        {
          "output_type": "execute_result",
          "data": {
            "text/plain": [
              "<Axes: xlabel='claim.ind'>"
            ]
          },
          "metadata": {},
          "execution_count": 24
        },
        {
          "output_type": "display_data",
          "data": {
            "text/plain": [
              "<Figure size 640x480 with 1 Axes>"
            ],
            "image/png": "[encoded data removed]"
          },
          "metadata": {}
        }
      ],
      "source": [
        "cancel_claim=pd.crosstab(index=X_train['claim.ind'],columns=y_train['cancel'])\n",
        "print(cancel_claim)\n",
        "cancel_claim.plot.bar()"
      ]
    },
    {
      "cell_type": "markdown",
      "source": [
        "From the above plot we observe that Highest policies are made when there is no occurance of claim."
      ],
      "metadata": {
        "id": "UnRPb42H0b7e"
      }
    },
    {
      "cell_type": "markdown",
      "metadata": {
        "id": "vE8ZLfKwDeHu"
      },
      "source": [
        "## Converting categorical variables to numerical variables"
      ]
    },
    {
      "cell_type": "code",
      "execution_count": null,
      "metadata": {
        "id": "j2fLom8iDfHh"
      },
      "outputs": [],
      "source": [
        "# Impoting label enconder, train_test_split, standard scaler from sklearn\n",
        "from sklearn.preprocessing import LabelEncoder # for cat to num conversion\n",
        "from sklearn.model_selection import train_test_split #for splitting data\n",
        "from sklearn.preprocessing import StandardScaler\n",
        "le=LabelEncoder()\n",
        "\n",
        "#X_train categorical data to numerical data\n",
        "X_train['house.color']=le.fit_transform(X_train['house.color'])\n",
        "X_train['credit']=le.fit_transform(X_train['credit'])\n",
        "X_train['coverage.type']=le.fit_transform(X_train['coverage.type'])\n",
        "X_train['dwelling.type']=le.fit_transform(X_train['dwelling.type'])\n",
        "X_train['sales.channel']=le.fit_transform(X_train['sales.channel'])\n",
        "X_train['ni.gender']=le.fit_transform(X_train['ni.gender'])\n",
        "\n",
        "#X_test categorical data to numerical data\n",
        "X_test['house.color']=le.fit_transform(X_test['house.color'])\n",
        "X_test['credit']=le.fit_transform(X_test['credit'])\n",
        "X_test['coverage.type']=le.fit_transform(X_test['coverage.type'])\n",
        "X_test['dwelling.type']=le.fit_transform(X_test['dwelling.type'])\n",
        "X_test['sales.channel']=le.fit_transform(X_test['sales.channel'])\n",
        "X_test['ni.gender']=le.fit_transform(X_test['ni.gender'])"
      ]
    },
    {
      "cell_type": "code",
      "execution_count": null,
      "metadata": {
        "colab": {
          "base_uri": "https://localhost:8080/"
        },
        "id": "TuATNEgyDmrZ",
        "outputId": "02673c67-60c8-4c07-8d36-3871b0423b42"
      },
      "outputs": [
        {
          "output_type": "stream",
          "name": "stdout",
          "text": [
            "(700232, 16) (700232, 1)\n"
          ]
        }
      ],
      "source": [
        "# Printing shapes of X_train and y_train\n",
        "print(X_train.shape,y_train.shape)"
      ]
    },
    {
      "cell_type": "code",
      "execution_count": null,
      "metadata": {
        "colab": {
          "base_uri": "https://localhost:8080/",
          "height": 740
        },
        "id": "i7__zyboDqE3",
        "outputId": "373f7cdb-ef01-493f-c9dd-e38243fbc7be"
      },
      "outputs": [
        {
          "output_type": "execute_result",
          "data": {
            "text/plain": [
              "    year  zip.code  house.color  ni.age  len.at.res  credit  coverage.type  \\\n",
              "0   2013   50020.0            2    33.0   16.000000       0              2   \n",
              "1   2013   80002.0            1    56.0   10.000000       0              0   \n",
              "2   2015   85005.0            2    46.0   12.000000       0              2   \n",
              "3   2015   98026.0            0    45.0   15.000000       0              0   \n",
              "4   2014   50022.0            2    28.0   19.000000       1              2   \n",
              "5   2015   98001.0            2    54.0   14.000000       0              2   \n",
              "6   2014   80028.0            1    38.0   13.000000       2              0   \n",
              "7   2013   80016.0            1    62.0    9.000000       0              0   \n",
              "8   2014   80002.0            2    39.0   23.545986       2              1   \n",
              "9   2013   85025.0            0    40.0   16.000000       0              0   \n",
              "10  2013   85029.0            1    42.0   16.000000       0              2   \n",
              "11  2016   80016.0            3    67.0   15.000000       0              0   \n",
              "12  2015   20134.0            2    44.0   20.000000       1              2   \n",
              "13  2014   50011.0            1    40.0    8.000000       2              2   \n",
              "14  2014   85031.0            0    26.0   18.000000       0              0   \n",
              "15  2014   80034.0            1    55.0   16.000000       0              2   \n",
              "16  2013   15047.0            0    41.0   14.000000       0              2   \n",
              "17  2016   50005.0            2    44.0   20.000000       2              2   \n",
              "18  2014   15004.0            2    31.0   17.000000       1              2   \n",
              "19  2015   50029.0            2    31.0   14.000000       2              0   \n",
              "\n",
              "    dwelling.type      premium  sales.channel  ni.gender  ni.marital.status  \\\n",
              "0               1   796.385532              0          0                1.0   \n",
              "1               1   773.232687              0          1                1.0   \n",
              "2               0   943.047142              0          0                1.0   \n",
              "3               2   949.368847              0          1                1.0   \n",
              "4               2   875.873613              0          0                1.0   \n",
              "5               1   888.300599              2          0                0.0   \n",
              "6               0  1011.257920              2          0                0.0   \n",
              "7               1   795.613301              2          0                1.0   \n",
              "8               2   914.537282              2          0                0.0   \n",
              "9               1   833.086745              2          1                1.0   \n",
              "10              0   954.364061              2          0                0.0   \n",
              "11              1   974.091968              0          0                1.0   \n",
              "12              2   923.115460              0          0                1.0   \n",
              "13              1   871.906031              2          0                1.0   \n",
              "14              0   992.009318              2          1                1.0   \n",
              "15              1   849.909304              0          1                0.0   \n",
              "16              1   930.784352              0          1                1.0   \n",
              "17              1   897.017610              0          1                1.0   \n",
              "18              2   991.352443              0          0                1.0   \n",
              "19              0   974.787827              2          1                0.0   \n",
              "\n",
              "    n.adults  n.children  tenure  claim.ind  \n",
              "0        1.0         3.0     2.0        1.0  \n",
              "1        2.0         0.0    14.0        0.0  \n",
              "2        2.0         2.0     9.0        0.0  \n",
              "3        1.0         3.0    12.0        0.0  \n",
              "4        1.0         1.0     7.0        1.0  \n",
              "5        2.0         0.0    14.0        1.0  \n",
              "6        2.0         0.0    10.0        0.0  \n",
              "7        2.0         1.0    15.0        0.0  \n",
              "8        1.0         0.0    20.0        0.0  \n",
              "9        1.0         2.0    18.0        1.0  \n",
              "10       1.0         0.0    14.0        0.0  \n",
              "11       1.0         6.0    18.0        1.0  \n",
              "12       3.0         2.0    20.0        0.0  \n",
              "13       2.0         2.0    11.0        0.0  \n",
              "14       2.0         1.0     6.0        0.0  \n",
              "15       1.0         2.0    14.0        0.0  \n",
              "16       2.0         3.0    21.0        0.0  \n",
              "17       3.0         1.0    17.0        0.0  \n",
              "18       1.0         5.0     3.0        0.0  \n",
              "19       2.0         0.0     6.0        1.0  "
            ],
            "text/html": [
              "\n",
              "  <div id=\"df-a256fbf7-921d-4fc9-8534-bb840706948d\">\n",
              "    <div class=\"colab-df-container\">\n",
              "      <div>\n",
              "<style scoped>\n",
              "    .dataframe tbody tr th:only-of-type {\n",
              "        vertical-align: middle;\n",
              "    }\n",
              "\n",
              "    .dataframe tbody tr th {\n",
              "        vertical-align: top;\n",
              "    }\n",
              "\n",
              "    .dataframe thead th {\n",
              "        text-align: right;\n",
              "    }\n",
              "</style>\n",
              "<table border=\"1\" class=\"dataframe\">\n",
              "  <thead>\n",
              "    <tr style=\"text-align: right;\">\n",
              "      <th></th>\n",
              "      <th>year</th>\n",
              "      <th>zip.code</th>\n",
              "      <th>house.color</th>\n",
              "      <th>ni.age</th>\n",
              "      <th>len.at.res</th>\n",
              "      <th>credit</th>\n",
              "      <th>coverage.type</th>\n",
              "      <th>dwelling.type</th>\n",
              "      <th>premium</th>\n",
              "      <th>sales.channel</th>\n",
              "      <th>ni.gender</th>\n",
              "      <th>ni.marital.status</th>\n",
              "      <th>n.adults</th>\n",
              "      <th>n.children</th>\n",
              "      <th>tenure</th>\n",
              "      <th>claim.ind</th>\n",
              "    </tr>\n",
              "  </thead>\n",
              "  <tbody>\n",
              "    <tr>\n",
              "      <th>0</th>\n",
              "      <td>2013</td>\n",
              "      <td>50020.0</td>\n",
              "      <td>2</td>\n",
              "      <td>33.0</td>\n",
              "      <td>16.000000</td>\n",
              "      <td>0</td>\n",
              "      <td>2</td>\n",
              "      <td>1</td>\n",
              "      <td>796.385532</td>\n",
              "      <td>0</td>\n",
              "      <td>0</td>\n",
              "      <td>1.0</td>\n",
              "      <td>1.0</td>\n",
              "      <td>3.0</td>\n",
              "      <td>2.0</td>\n",
              "      <td>1.0</td>\n",
              "    </tr>\n",
              "    <tr>\n",
              "      <th>1</th>\n",
              "      <td>2013</td>\n",
              "      <td>80002.0</td>\n",
              "      <td>1</td>\n",
              "      <td>56.0</td>\n",
              "      <td>10.000000</td>\n",
              "      <td>0</td>\n",
              "      <td>0</td>\n",
              "      <td>1</td>\n",
              "      <td>773.232687</td>\n",
              "      <td>0</td>\n",
              "      <td>1</td>\n",
              "      <td>1.0</td>\n",
              "      <td>2.0</td>\n",
              "      <td>0.0</td>\n",
              "      <td>14.0</td>\n",
              "      <td>0.0</td>\n",
              "    </tr>\n",
              "    <tr>\n",
              "      <th>2</th>\n",
              "      <td>2015</td>\n",
              "      <td>85005.0</td>\n",
              "      <td>2</td>\n",
              "      <td>46.0</td>\n",
              "      <td>12.000000</td>\n",
              "      <td>0</td>\n",
              "      <td>2</td>\n",
              "      <td>0</td>\n",
              "      <td>943.047142</td>\n",
              "      <td>0</td>\n",
              "      <td>0</td>\n",
              "      <td>1.0</td>\n",
              "      <td>2.0</td>\n",
              "      <td>2.0</td>\n",
              "      <td>9.0</td>\n",
              "      <td>0.0</td>\n",
              "    </tr>\n",
              "    <tr>\n",
              "      <th>3</th>\n",
              "      <td>2015</td>\n",
              "      <td>98026.0</td>\n",
              "      <td>0</td>\n",
              "      <td>45.0</td>\n",
              "      <td>15.000000</td>\n",
              "      <td>0</td>\n",
              "      <td>0</td>\n",
              "      <td>2</td>\n",
              "      <td>949.368847</td>\n",
              "      <td>0</td>\n",
              "      <td>1</td>\n",
              "      <td>1.0</td>\n",
              "      <td>1.0</td>\n",
              "      <td>3.0</td>\n",
              "      <td>12.0</td>\n",
              "      <td>0.0</td>\n",
              "    </tr>\n",
              "    <tr>\n",
              "      <th>4</th>\n",
              "      <td>2014</td>\n",
              "      <td>50022.0</td>\n",
              "      <td>2</td>\n",
              "      <td>28.0</td>\n",
              "      <td>19.000000</td>\n",
              "      <td>1</td>\n",
              "      <td>2</td>\n",
              "      <td>2</td>\n",
              "      <td>875.873613</td>\n",
              "      <td>0</td>\n",
              "      <td>0</td>\n",
              "      <td>1.0</td>\n",
              "      <td>1.0</td>\n",
              "      <td>1.0</td>\n",
              "      <td>7.0</td>\n",
              "      <td>1.0</td>\n",
              "    </tr>\n",
              "    <tr>\n",
              "      <th>5</th>\n",
              "      <td>2015</td>\n",
              "      <td>98001.0</td>\n",
              "      <td>2</td>\n",
              "      <td>54.0</td>\n",
              "      <td>14.000000</td>\n",
              "      <td>0</td>\n",
              "      <td>2</td>\n",
              "      <td>1</td>\n",
              "      <td>888.300599</td>\n",
              "      <td>2</td>\n",
              "      <td>0</td>\n",
              "      <td>0.0</td>\n",
              "      <td>2.0</td>\n",
              "      <td>0.0</td>\n",
              "      <td>14.0</td>\n",
              "      <td>1.0</td>\n",
              "    </tr>\n",
              "    <tr>\n",
              "      <th>6</th>\n",
              "      <td>2014</td>\n",
              "      <td>80028.0</td>\n",
              "      <td>1</td>\n",
              "      <td>38.0</td>\n",
              "      <td>13.000000</td>\n",
              "      <td>2</td>\n",
              "      <td>0</td>\n",
              "      <td>0</td>\n",
              "      <td>1011.257920</td>\n",
              "      <td>2</td>\n",
              "      <td>0</td>\n",
              "      <td>0.0</td>\n",
              "      <td>2.0</td>\n",
              "      <td>0.0</td>\n",
              "      <td>10.0</td>\n",
              "      <td>0.0</td>\n",
              "    </tr>\n",
              "    <tr>\n",
              "      <th>7</th>\n",
              "      <td>2013</td>\n",
              "      <td>80016.0</td>\n",
              "      <td>1</td>\n",
              "      <td>62.0</td>\n",
              "      <td>9.000000</td>\n",
              "      <td>0</td>\n",
              "      <td>0</td>\n",
              "      <td>1</td>\n",
              "      <td>795.613301</td>\n",
              "      <td>2</td>\n",
              "      <td>0</td>\n",
              "      <td>1.0</td>\n",
              "      <td>2.0</td>\n",
              "      <td>1.0</td>\n",
              "      <td>15.0</td>\n",
              "      <td>0.0</td>\n",
              "    </tr>\n",
              "    <tr>\n",
              "      <th>8</th>\n",
              "      <td>2014</td>\n",
              "      <td>80002.0</td>\n",
              "      <td>2</td>\n",
              "      <td>39.0</td>\n",
              "      <td>23.545986</td>\n",
              "      <td>2</td>\n",
              "      <td>1</td>\n",
              "      <td>2</td>\n",
              "      <td>914.537282</td>\n",
              "      <td>2</td>\n",
              "      <td>0</td>\n",
              "      <td>0.0</td>\n",
              "      <td>1.0</td>\n",
              "      <td>0.0</td>\n",
              "      <td>20.0</td>\n",
              "      <td>0.0</td>\n",
              "    </tr>\n",
              "    <tr>\n",
              "      <th>9</th>\n",
              "      <td>2013</td>\n",
              "      <td>85025.0</td>\n",
              "      <td>0</td>\n",
              "      <td>40.0</td>\n",
              "      <td>16.000000</td>\n",
              "      <td>0</td>\n",
              "      <td>0</td>\n",
              "      <td>1</td>\n",
              "      <td>833.086745</td>\n",
              "      <td>2</td>\n",
              "      <td>1</td>\n",
              "      <td>1.0</td>\n",
              "      <td>1.0</td>\n",
              "      <td>2.0</td>\n",
              "      <td>18.0</td>\n",
              "      <td>1.0</td>\n",
              "    </tr>\n",
              "    <tr>\n",
              "      <th>10</th>\n",
              "      <td>2013</td>\n",
              "      <td>85029.0</td>\n",
              "      <td>1</td>\n",
              "      <td>42.0</td>\n",
              "      <td>16.000000</td>\n",
              "      <td>0</td>\n",
              "      <td>2</td>\n",
              "      <td>0</td>\n",
              "      <td>954.364061</td>\n",
              "      <td>2</td>\n",
              "      <td>0</td>\n",
              "      <td>0.0</td>\n",
              "      <td>1.0</td>\n",
              "      <td>0.0</td>\n",
              "      <td>14.0</td>\n",
              "      <td>0.0</td>\n",
              "    </tr>\n",
              "    <tr>\n",
              "      <th>11</th>\n",
              "      <td>2016</td>\n",
              "      <td>80016.0</td>\n",
              "      <td>3</td>\n",
              "      <td>67.0</td>\n",
              "      <td>15.000000</td>\n",
              "      <td>0</td>\n",
              "      <td>0</td>\n",
              "      <td>1</td>\n",
              "      <td>974.091968</td>\n",
              "      <td>0</td>\n",
              "      <td>0</td>\n",
              "      <td>1.0</td>\n",
              "      <td>1.0</td>\n",
              "      <td>6.0</td>\n",
              "      <td>18.0</td>\n",
              "      <td>1.0</td>\n",
              "    </tr>\n",
              "    <tr>\n",
              "      <th>12</th>\n",
              "      <td>2015</td>\n",
              "      <td>20134.0</td>\n",
              "      <td>2</td>\n",
              "      <td>44.0</td>\n",
              "      <td>20.000000</td>\n",
              "      <td>1</td>\n",
              "      <td>2</td>\n",
              "      <td>2</td>\n",
              "      <td>923.115460</td>\n",
              "      <td>0</td>\n",
              "      <td>0</td>\n",
              "      <td>1.0</td>\n",
              "      <td>3.0</td>\n",
              "      <td>2.0</td>\n",
              "      <td>20.0</td>\n",
              "      <td>0.0</td>\n",
              "    </tr>\n",
              "    <tr>\n",
              "      <th>13</th>\n",
              "      <td>2014</td>\n",
              "      <td>50011.0</td>\n",
              "      <td>1</td>\n",
              "      <td>40.0</td>\n",
              "      <td>8.000000</td>\n",
              "      <td>2</td>\n",
              "      <td>2</td>\n",
              "      <td>1</td>\n",
              "      <td>871.906031</td>\n",
              "      <td>2</td>\n",
              "      <td>0</td>\n",
              "      <td>1.0</td>\n",
              "      <td>2.0</td>\n",
              "      <td>2.0</td>\n",
              "      <td>11.0</td>\n",
              "      <td>0.0</td>\n",
              "    </tr>\n",
              "    <tr>\n",
              "      <th>14</th>\n",
              "      <td>2014</td>\n",
              "      <td>85031.0</td>\n",
              "      <td>0</td>\n",
              "      <td>26.0</td>\n",
              "      <td>18.000000</td>\n",
              "      <td>0</td>\n",
              "      <td>0</td>\n",
              "      <td>0</td>\n",
              "      <td>992.009318</td>\n",
              "      <td>2</td>\n",
              "      <td>1</td>\n",
              "      <td>1.0</td>\n",
              "      <td>2.0</td>\n",
              "      <td>1.0</td>\n",
              "      <td>6.0</td>\n",
              "      <td>0.0</td>\n",
              "    </tr>\n",
              "    <tr>\n",
              "      <th>15</th>\n",
              "      <td>2014</td>\n",
              "      <td>80034.0</td>\n",
              "      <td>1</td>\n",
              "      <td>55.0</td>\n",
              "      <td>16.000000</td>\n",
              "      <td>0</td>\n",
              "      <td>2</td>\n",
              "      <td>1</td>\n",
              "      <td>849.909304</td>\n",
              "      <td>0</td>\n",
              "      <td>1</td>\n",
              "      <td>0.0</td>\n",
              "      <td>1.0</td>\n",
              "      <td>2.0</td>\n",
              "      <td>14.0</td>\n",
              "      <td>0.0</td>\n",
              "    </tr>\n",
              "    <tr>\n",
              "      <th>16</th>\n",
              "      <td>2013</td>\n",
              "      <td>15047.0</td>\n",
              "      <td>0</td>\n",
              "      <td>41.0</td>\n",
              "      <td>14.000000</td>\n",
              "      <td>0</td>\n",
              "      <td>2</td>\n",
              "      <td>1</td>\n",
              "      <td>930.784352</td>\n",
              "      <td>0</td>\n",
              "      <td>1</td>\n",
              "      <td>1.0</td>\n",
              "      <td>2.0</td>\n",
              "      <td>3.0</td>\n",
              "      <td>21.0</td>\n",
              "      <td>0.0</td>\n",
              "    </tr>\n",
              "    <tr>\n",
              "      <th>17</th>\n",
              "      <td>2016</td>\n",
              "      <td>50005.0</td>\n",
              "      <td>2</td>\n",
              "      <td>44.0</td>\n",
              "      <td>20.000000</td>\n",
              "      <td>2</td>\n",
              "      <td>2</td>\n",
              "      <td>1</td>\n",
              "      <td>897.017610</td>\n",
              "      <td>0</td>\n",
              "      <td>1</td>\n",
              "      <td>1.0</td>\n",
              "      <td>3.0</td>\n",
              "      <td>1.0</td>\n",
              "      <td>17.0</td>\n",
              "      <td>0.0</td>\n",
              "    </tr>\n",
              "    <tr>\n",
              "      <th>18</th>\n",
              "      <td>2014</td>\n",
              "      <td>15004.0</td>\n",
              "      <td>2</td>\n",
              "      <td>31.0</td>\n",
              "      <td>17.000000</td>\n",
              "      <td>1</td>\n",
              "      <td>2</td>\n",
              "      <td>2</td>\n",
              "      <td>991.352443</td>\n",
              "      <td>0</td>\n",
              "      <td>0</td>\n",
              "      <td>1.0</td>\n",
              "      <td>1.0</td>\n",
              "      <td>5.0</td>\n",
              "      <td>3.0</td>\n",
              "      <td>0.0</td>\n",
              "    </tr>\n",
              "    <tr>\n",
              "      <th>19</th>\n",
              "      <td>2015</td>\n",
              "      <td>50029.0</td>\n",
              "      <td>2</td>\n",
              "      <td>31.0</td>\n",
              "      <td>14.000000</td>\n",
              "      <td>2</td>\n",
              "      <td>0</td>\n",
              "      <td>0</td>\n",
              "      <td>974.787827</td>\n",
              "      <td>2</td>\n",
              "      <td>1</td>\n",
              "      <td>0.0</td>\n",
              "      <td>2.0</td>\n",
              "      <td>0.0</td>\n",
              "      <td>6.0</td>\n",
              "      <td>1.0</td>\n",
              "    </tr>\n",
              "  </tbody>\n",
              "</table>\n",
              "</div>\n",
              "      <button class=\"colab-df-convert\" onclick=\"convertToInteractive('df-a256fbf7-921d-4fc9-8534-bb840706948d')\"\n",
              "              title=\"Convert this dataframe to an interactive table.\"\n",
              "              style=\"display:none;\">\n",
              "        \n",
              "  <svg xmlns=\"http://www.w3.org/2000/svg\" height=\"24px\"viewBox=\"0 0 24 24\"\n",
              "       width=\"24px\">\n",
              "    <path d=\"M0 0h24v24H0V0z\" fill=\"none\"/>\n",
              "    <path d=\"M18.56 5.44l.94 2.06.94-2.06 2.06-.94-2.06-.94-.94-2.06-.94 2.06-2.06.94zm-11 1L8.5 8.5l.94-2.06 2.06-.94-2.06-.94L8.5 2.5l-.94 2.06-2.06.94zm10 10l.94 2.06.94-2.06 2.06-.94-2.06-.94-.94-2.06-.94 2.06-2.06.94z\"/><path d=\"M17.41 7.96l-1.37-1.37c-.4-.4-.92-.59-1.43-.59-.52 0-1.04.2-1.43.59L10.3 9.45l-7.72 7.72c-.78.78-.78 2.05 0 2.83L4 21.41c.39.39.9.59 1.41.59.51 0 1.02-.2 1.41-.59l7.78-7.78 2.81-2.81c.8-.78.8-2.07 0-2.86zM5.41 20L4 18.59l7.72-7.72 1.47 1.35L5.41 20z\"/>\n",
              "  </svg>\n",
              "      </button>\n",
              "      \n",
              "  <style>\n",
              "    .colab-df-container {\n",
              "      display:flex;\n",
              "      flex-wrap:wrap;\n",
              "      gap: 12px;\n",
              "    }\n",
              "\n",
              "    .colab-df-convert {\n",
              "      background-color: #E8F0FE;\n",
              "      border: none;\n",
              "      border-radius: 50%;\n",
              "      cursor: pointer;\n",
              "      display: none;\n",
              "      fill: #1967D2;\n",
              "      height: 32px;\n",
              "      padding: 0 0 0 0;\n",
              "      width: 32px;\n",
              "    }\n",
              "\n",
              "    .colab-df-convert:hover {\n",
              "      background-color: #E2EBFA;\n",
              "      box-shadow: 0px 1px 2px rgba(60, 64, 67, 0.3), 0px 1px 3px 1px rgba(60, 64, 67, 0.15);\n",
              "      fill: #174EA6;\n",
              "    }\n",
              "\n",
              "    [theme=dark] .colab-df-convert {\n",
              "      background-color: #3B4455;\n",
              "      fill: #D2E3FC;\n",
              "    }\n",
              "\n",
              "    [theme=dark] .colab-df-convert:hover {\n",
              "      background-color: #434B5C;\n",
              "      box-shadow: 0px 1px 3px 1px rgba(0, 0, 0, 0.15);\n",
              "      filter: drop-shadow(0px 1px 2px rgba(0, 0, 0, 0.3));\n",
              "      fill: #FFFFFF;\n",
              "    }\n",
              "  </style>\n",
              "\n",
              "      <script>\n",
              "        const buttonEl =\n",
              "          document.querySelector('#df-a256fbf7-921d-4fc9-8534-bb840706948d button.colab-df-convert');\n",
              "        buttonEl.style.display =\n",
              "          google.colab.kernel.accessAllowed ? 'block' : 'none';\n",
              "\n",
              "        async function convertToInteractive(key) {\n",
              "          const element = document.querySelector('#df-a256fbf7-921d-4fc9-8534-bb840706948d');\n",
              "          const dataTable =\n",
              "            await google.colab.kernel.invokeFunction('convertToInteractive',\n",
              "                                                     [key], {});\n",
              "          if (!dataTable) return;\n",
              "\n",
              "          const docLinkHtml = 'Like what you see? Visit the ' +\n",
              "            '<a target=\"_blank\" href=https://colab.research.google.com/notebooks/data_table.ipynb>data table notebook</a>'\n",
              "            + ' to learn more about interactive tables.';\n",
              "          element.innerHTML = '';\n",
              "          dataTable['output_type'] = 'display_data';\n",
              "          await google.colab.output.renderOutput(dataTable, element);\n",
              "          const docLink = document.createElement('div');\n",
              "          docLink.innerHTML = docLinkHtml;\n",
              "          element.appendChild(docLink);\n",
              "        }\n",
              "      </script>\n",
              "    </div>\n",
              "  </div>\n",
              "  "
            ]
          },
          "metadata": {},
          "execution_count": 27
        }
      ],
      "source": [
        "#checking data after tranformation\n",
        "#house_color-blue=0,red=1,white=2,yellow=3\n",
        "#credit- 0,1,2- high,med,low\n",
        "X_test.head(20)"
      ]
    },
    {
      "cell_type": "markdown",
      "metadata": {
        "id": "233NIIo-Du96"
      },
      "source": [
        "## Implementing transform and fit_transform functions"
      ]
    },
    {
      "cell_type": "code",
      "execution_count": null,
      "metadata": {
        "colab": {
          "base_uri": "https://localhost:8080/"
        },
        "id": "kys-MwpsDvoD",
        "outputId": "c6af57c3-00c3-4d23-d6bd-131449c67a8c"
      },
      "outputs": [
        {
          "output_type": "stream",
          "name": "stdout",
          "text": [
            "(700232, 16) (344891, 16)\n"
          ]
        }
      ],
      "source": [
        "# Impoting standardscaler from sklearn preprocessing\n",
        "from sklearn.preprocessing import StandardScaler\n",
        "# assigning standard scaler to scaler\n",
        "scaler = StandardScaler()\n",
        "# fit transforming X train and transforming X test\n",
        "X_train = scaler.fit_transform(X_train)\n",
        "X_test = scaler.transform(X_test)\n",
        "#Printing shapes of X train & X test\n",
        "print(X_train.shape,X_test.shape)\n"
      ]
    },
    {
      "cell_type": "markdown",
      "metadata": {
        "id": "-C3QnNZ7EBMH"
      },
      "source": [
        "# Sampling using SMOTE"
      ]
    },
    {
      "cell_type": "code",
      "execution_count": null,
      "metadata": {
        "colab": {
          "base_uri": "https://localhost:8080/"
        },
        "id": "clu-HGnCECJ6",
        "outputId": "3f2dc41a-6d04-4143-8765-87a20ab6e4a5"
      },
      "outputs": [
        {
          "output_type": "stream",
          "name": "stdout",
          "text": [
            "Counter({0: 496542, 2: 496542, 1: 496542})\n"
          ]
        }
      ],
      "source": [
        "#Importing SMOTE class from imblearn package to handle imbalanced dataset by oversampling the minority class\n",
        "from imblearn.over_sampling import SMOTE\n",
        "\n",
        "# Importing SVMSMOTE class from imblearn package which is another variant of SMOTE that uses an SVM to generate synthetic samples.\n",
        "from imblearn.over_sampling import SVMSMOTE\n",
        "\n",
        " #Importing Counter class from collections module to count the number of occurrences of each class in a dataset.\n",
        "from collections import Counter\n",
        "\n",
        "# Setting a random seed for reproducibility.\n",
        "random_state = 123\n",
        "\n",
        "# Initializing an oversampling object of SMOTE with k_neighbors set to 9.\n",
        "oversample = SMOTE(k_neighbors=9)\n",
        "\n",
        "# Applying SMOTE on the training set (X_train, y_train) and creating a new balanced training set (X_res, y_res) by generating synthetic samples for the minority class.\n",
        "X_res, y_res = oversample.fit_resample(X_train, y_train)\n",
        "\n",
        "# Counting the number of instances in each class of the balanced training set (y_res) after applying SMOTE, specifically the class cancel.\n",
        "counter = Counter(y_res['cancel'])\n",
        "\n",
        "# Printing the class distribution of the balanced training set.\n",
        "print(counter)"
      ]
    },
    {
      "cell_type": "markdown",
      "metadata": {
        "id": "3kG5EyRt3KJ6"
      },
      "source": [
        "# Models"
      ]
    },
    {
      "cell_type": "code",
      "execution_count": null,
      "metadata": {
        "id": "0h_FW5YCSDxC"
      },
      "outputs": [],
      "source": [
        "# Importing accuracy_score, f2score, confusion_matrix, classification_report\n",
        "from sklearn.metrics import accuracy_score\n",
        "from sklearn.metrics import f1_score\n",
        "from sklearn.metrics import confusion_matrix, classification_report"
      ]
    },
    {
      "cell_type": "markdown",
      "metadata": {
        "id": "iljmIcNRRG4e"
      },
      "source": [
        "##Naive Bayes"
      ]
    },
    {
      "cell_type": "code",
      "execution_count": null,
      "metadata": {
        "colab": {
          "base_uri": "https://localhost:8080/"
        },
        "id": "Aw8lUsYXRIyU",
        "outputId": "c732d665-94ef-440e-e8bb-7ec059f847a7"
      },
      "outputs": [
        {
          "output_type": "stream",
          "name": "stderr",
          "text": [
            "/usr/local/lib/python3.10/dist-packages/sklearn/utils/validation.py:1143: DataConversionWarning: A column-vector y was passed when a 1d array was expected. Please change the shape of y to (n_samples, ), for example using ravel().\n",
            "  y = column_or_1d(y, warn=True)\n"
          ]
        },
        {
          "output_type": "stream",
          "name": "stdout",
          "text": [
            "Train results: \n",
            "\n",
            "              precision    recall  f1-score   support\n",
            "\n",
            "           0       0.51      0.60      0.55    496542\n",
            "           1       0.44      0.56      0.49    496542\n",
            "           2       0.42      0.24      0.30    496542\n",
            "\n",
            "    accuracy                           0.46   1489626\n",
            "   macro avg       0.46      0.46      0.45   1489626\n",
            "weighted avg       0.46      0.46      0.45   1489626\n",
            "\n",
            "Test results: \n",
            "\n",
            "              precision    recall  f1-score   support\n",
            "\n",
            "           0       0.82      0.60      0.69    244522\n",
            "           1       0.12      0.51      0.19     24772\n",
            "           2       0.32      0.25      0.28     75597\n",
            "\n",
            "    accuracy                           0.51    344891\n",
            "   macro avg       0.42      0.45      0.39    344891\n",
            "weighted avg       0.66      0.51      0.56    344891\n",
            "\n",
            "Accuracy: 0.5132549124216057\n",
            "Weighted F1 score: 0.5630076656667753\n"
          ]
        }
      ],
      "source": [
        "# Importing the Gaussian Naive Bayes classifier from the scikit-learn library.\n",
        "from sklearn.naive_bayes import GaussianNB\n",
        "# Importing necessary evaluation metrics from scikit-learn.\n",
        "from sklearn.metrics import confusion_matrix, classification_report\n",
        "\n",
        "# Initializing a Decision Tree Classifier object as nb_model.\n",
        "nb_model = GaussianNB()\n",
        "# Fitting the Decision Tree Classifier on the balanced training set (X_res, y_res).\n",
        "nb_model.fit(X_res, y_res)\n",
        "\n",
        " # Predicting the target class on the balanced training and test set.\n",
        "train_preds = nb_model.predict(X_res)\n",
        "test_preds = nb_model.predict(X_test)\n",
        "\n",
        "print('Train results: \\n')\n",
        "print(classification_report(y_res, train_preds))\n",
        "print('Test results: \\n')\n",
        "\n",
        "# Printing the classification report for the test set which includes precision, recall, f1-score, and support.\n",
        "print(classification_report(y_test, test_preds))\n",
        "\n",
        "# Calculating and printing the weighted F1 score for the test set.\n",
        "print(\"Accuracy:\", accuracy_score(y_test, test_preds))\n",
        "weighted_f1 = f1_score(y_test, test_preds, average='weighted')\n",
        "print(\"Weighted F1 score:\", weighted_f1)"
      ]
    },
    {
      "cell_type": "markdown",
      "source": [
        "### Accuracy: 51.3 %"
      ],
      "metadata": {
        "id": "yuaPs8wt4Ndh"
      }
    },
    {
      "cell_type": "markdown",
      "source": [
        "### F1 score: 56.3"
      ],
      "metadata": {
        "id": "mf85qEe44Qjq"
      }
    },
    {
      "cell_type": "markdown",
      "metadata": {
        "id": "Ld6jXKJ0RMwx"
      },
      "source": [
        "##Neural Network"
      ]
    },
    {
      "cell_type": "code",
      "execution_count": null,
      "metadata": {
        "colab": {
          "base_uri": "https://localhost:8080/"
        },
        "id": "w_KLXUH7RSv2",
        "outputId": "c60a738b-03c3-477e-98b0-e01260437822"
      },
      "outputs": [
        {
          "output_type": "stream",
          "name": "stderr",
          "text": [
            "/usr/local/lib/python3.10/dist-packages/sklearn/neural_network/_multilayer_perceptron.py:1098: DataConversionWarning: A column-vector y was passed when a 1d array was expected. Please change the shape of y to (n_samples, ), for example using ravel().\n",
            "  y = column_or_1d(y, warn=True)\n"
          ]
        },
        {
          "output_type": "stream",
          "name": "stdout",
          "text": [
            "Train results: \n",
            "\n",
            "              precision    recall  f1-score   support\n",
            "\n",
            "           0       0.71      0.78      0.74    496542\n",
            "           1       0.84      0.94      0.89    496542\n",
            "           2       0.74      0.58      0.65    496542\n",
            "\n",
            "    accuracy                           0.77   1489626\n",
            "   macro avg       0.76      0.77      0.76   1489626\n",
            "weighted avg       0.76      0.77      0.76   1489626\n",
            "\n",
            "Test results: \n",
            "\n",
            "              precision    recall  f1-score   support\n",
            "\n",
            "           0       0.85      0.78      0.81    244522\n",
            "           1       0.49      0.93      0.64     24772\n",
            "           2       0.48      0.45      0.46     75597\n",
            "\n",
            "    accuracy                           0.72    344891\n",
            "   macro avg       0.60      0.72      0.64    344891\n",
            "weighted avg       0.74      0.72      0.72    344891\n",
            "\n",
            "Accuracy: 0.7204160154947505\n",
            "Weighted F1 score: 0.7241848191778751\n"
          ]
        }
      ],
      "source": [
        "# Importing the MLP classifier from the scikit-learn library.\n",
        "from sklearn.neural_network import MLPClassifier\n",
        "random_state = 123\n",
        "# Initializing a MLP Classifier object as nn.\n",
        "nn = MLPClassifier(hidden_layer_sizes=(500, 200), activation='relu', solver='adam', alpha=0.001, learning_rate_init=0.01, random_state=123)\n",
        "# Fitting the neural network on the balanced training set (X_res, y_res).\n",
        "nn.fit(X_res, y_res)\n",
        "# Predicting the target class on the balanced training and test set.\n",
        "train_preds = nn.predict(X_res)\n",
        "test_preds = nn.predict(X_test)\n",
        "print('Train results: \\n')\n",
        "print(classification_report(y_res, train_preds))\n",
        "print('Test results: \\n')\n",
        "# Printing the classification report for the test set which includes precision, recall, f1-score, and support.\n",
        "print(classification_report(y_test, test_preds))\n",
        "# Calculating and printing the weighted F1 score for the test set.\n",
        "print(\"Accuracy:\", accuracy_score(y_test, test_preds))\n",
        "weighted_f1 = f1_score(y_test, test_preds, average='weighted')\n",
        "print(\"Weighted F1 score:\", weighted_f1)"
      ]
    },
    {
      "cell_type": "markdown",
      "source": [
        "### Accuracy: 72.04 %\n"
      ],
      "metadata": {
        "id": "qZBpJbZe4BlP"
      }
    },
    {
      "cell_type": "markdown",
      "source": [
        "### F1 Score: 72.41"
      ],
      "metadata": {
        "id": "QLA7BeJ_4Gt1"
      }
    },
    {
      "cell_type": "markdown",
      "metadata": {
        "id": "BPUPUbHURT1X"
      },
      "source": [
        "##Random Forest"
      ]
    },
    {
      "cell_type": "code",
      "execution_count": null,
      "metadata": {
        "colab": {
          "base_uri": "https://localhost:8080/"
        },
        "id": "omUYm-EIRZ5J",
        "outputId": "a977bf69-fe16-4d09-8c33-1c8e1cccd764"
      },
      "outputs": [
        {
          "name": "stderr",
          "output_type": "stream",
          "text": [
            "<ipython-input-33-2eecadfd30bc>:6: DataConversionWarning: A column-vector y was passed when a 1d array was expected. Please change the shape of y to (n_samples,), for example using ravel().\n",
            "  rf.fit(X_res, y_res)\n"
          ]
        },
        {
          "name": "stdout",
          "output_type": "stream",
          "text": [
            "Train results: \n",
            "\n",
            "              precision    recall  f1-score   support\n",
            "\n",
            "           0       0.73      0.75      0.74    496542\n",
            "           1       0.65      0.89      0.75    496542\n",
            "           2       0.77      0.44      0.56    496542\n",
            "\n",
            "    accuracy                           0.70   1489626\n",
            "   macro avg       0.71      0.70      0.68   1489626\n",
            "weighted avg       0.71      0.70      0.68   1489626\n",
            "\n",
            "Test results: \n",
            "\n",
            "              precision    recall  f1-score   support\n",
            "\n",
            "           0       0.83      0.75      0.79    244522\n",
            "           1       0.23      0.77      0.36     24772\n",
            "           2       0.54      0.30      0.39     75597\n",
            "\n",
            "    accuracy                           0.66    344891\n",
            "   macro avg       0.53      0.61      0.51    344891\n",
            "weighted avg       0.73      0.66      0.67    344891\n",
            "\n",
            "Accuracy: 0.6550185420901097\n",
            "Weighted F1 score: 0.671619316587512\n"
          ]
        }
      ],
      "source": [
        "# Importing the Random Forest classifier from the scikit-learn library.\n",
        "from sklearn.ensemble import RandomForestClassifier\n",
        "# Initializing a RFC Classifier object as rf.\n",
        "rf = RandomForestClassifier(n_estimators=500, max_depth=10, min_samples_split=5, min_samples_leaf=2, max_features='sqrt', random_state=123)\n",
        "# Fitting the random forest on the balanced training set (X_res, y_res).\n",
        "rf.fit(X_res, y_res)\n",
        "# Predicting the target class on the balanced training and test set.\n",
        "train_preds = rf.predict(X_res)\n",
        "test_preds = rf.predict(X_test)\n",
        "print('Train results: \\n')\n",
        "print(classification_report(y_res, train_preds))\n",
        "print('Test results: \\n')\n",
        "# Printing the classification report for the test set which includes precision, recall, f1-score, and support.\n",
        "print(classification_report(y_test, test_preds))\n",
        "print(\"Accuracy:\", accuracy_score(y_test, test_preds))\n",
        "# Calculating and printing the weighted F1 score for the test set.\n",
        "weighted_f1 = f1_score(y_test, test_preds, average='weighted')\n",
        "print(\"Weighted F1 score:\", weighted_f1)"
      ]
    },
    {
      "cell_type": "markdown",
      "source": [
        "### Accuracy: 65.50 %\n"
      ],
      "metadata": {
        "id": "QzeynP3O3z62"
      }
    },
    {
      "cell_type": "markdown",
      "source": [
        "### F1 Score: 67.16"
      ],
      "metadata": {
        "id": "AzfjRson3651"
      }
    },
    {
      "cell_type": "markdown",
      "source": [
        "Optimal Hyperparameter for Random tree forest"
      ],
      "metadata": {
        "id": "ZL87ksF43tHm"
      }
    },
    {
      "cell_type": "code",
      "execution_count": null,
      "metadata": {
        "colab": {
          "base_uri": "https://localhost:8080/"
        },
        "id": "bw3UB_pBbJhY",
        "outputId": "4fab5dcd-a22f-4dae-8ee1-0d4681b5c2bf"
      },
      "outputs": [
        {
          "name": "stdout",
          "output_type": "stream",
          "text": [
            "Best hyperparameters: {'max_depth': 10, 'min_samples_leaf': 2, 'min_samples_split': 2, 'n_estimators': 50}\n",
            "Best F1 score: 0.9010948172531588\n"
          ]
        }
      ],
      "source": [
        "from sklearn.model_selection import GridSearchCV\n",
        "from sklearn.metrics import f1_score\n",
        "from sklearn.ensemble import RandomForestClassifier\n",
        "from sklearn.datasets import make_classification\n",
        "\n",
        "# Create a synthetic dataset for illustration purposes\n",
        "X_resample, y_resample = make_classification(n_samples=1000, random_state=42)\n",
        "\n",
        "# Define the hyperparameters to tune\n",
        "param_grid = {\n",
        "    'n_estimators': [10, 50, 100],\n",
        "    'max_depth': [None, 5, 10],\n",
        "    'min_samples_split': [2, 5],\n",
        "    'min_samples_leaf': [1, 2]\n",
        "}\n",
        "\n",
        "# Define the model to use\n",
        "model = RandomForestClassifier()\n",
        "\n",
        "# Create a GridSearchCV object\n",
        "grid_search = GridSearchCV(estimator=model, param_grid=param_grid, cv=5, scoring='f1')\n",
        "\n",
        "# Fit the GridSearchCV object to the data\n",
        "grid_search.fit(X_resample, y_resample)\n",
        "\n",
        "# Print the best hyperparameters and F1 score\n",
        "print(\"Best hyperparameters:\", grid_search.best_params_)\n",
        "print(\"Best F1 score:\", grid_search.best_score_)"
      ]
    },
    {
      "cell_type": "markdown",
      "metadata": {
        "id": "VHlUorGSSqwO"
      },
      "source": [
        "##Decision Tree"
      ]
    },
    {
      "cell_type": "code",
      "execution_count": null,
      "metadata": {
        "colab": {
          "base_uri": "https://localhost:8080/"
        },
        "id": "4DWEufEmSsgs",
        "outputId": "caebab8d-3338-4613-8fc9-2e2a7e1e47b2"
      },
      "outputs": [
        {
          "name": "stdout",
          "output_type": "stream",
          "text": [
            "Train results: \n",
            "\n",
            "              precision    recall  f1-score   support\n",
            "\n",
            "           0       0.91      0.95      0.93    496542\n",
            "           1       0.96      0.96      0.96    496542\n",
            "           2       0.94      0.89      0.91    496542\n",
            "\n",
            "    accuracy                           0.93   1489626\n",
            "   macro avg       0.93      0.93      0.93   1489626\n",
            "weighted avg       0.93      0.93      0.93   1489626\n",
            "\n",
            "Test results: \n",
            "\n",
            "              precision    recall  f1-score   support\n",
            "\n",
            "           0       0.77      0.77      0.77    244522\n",
            "           1       0.38      0.44      0.41     24772\n",
            "           2       0.33      0.32      0.33     75597\n",
            "\n",
            "    accuracy                           0.64    344891\n",
            "   macro avg       0.49      0.51      0.50    344891\n",
            "weighted avg       0.65      0.64      0.65    344891\n",
            "\n",
            "Accuracy: 0.644884905665848\n",
            "Weighted F1 score: 0.6458376633401193\n"
          ]
        }
      ],
      "source": [
        "# Importing the Decision Tree classifier from the scikit-learn library.\n",
        "from sklearn.tree import DecisionTreeClassifier\n",
        "# Initializing a Decision Tree Classifier object as DTC with min_splis = 10.\n",
        "DTC = DecisionTreeClassifier(min_samples_split=10)\n",
        "# Fitting the DTC on the balanced training set (X_res, y_res).\n",
        "DTC.fit(X_res, y_res)\n",
        "# Predicting the target class on the balanced training and test set.\n",
        "train_preds = DTC.predict(X_res)\n",
        "test_preds = DTC.predict(X_test)\n",
        "print('Train results: \\n')\n",
        "print(classification_report(y_res, train_preds))\n",
        "print('Test results: \\n')\n",
        "# Printing the classification report for the test set which includes precision, recall, f1-score, and support.\n",
        "print(classification_report(y_test, test_preds))\n",
        "print(\"Accuracy:\", accuracy_score(y_test, test_preds))\n",
        "# Calculating and printing the weighted F1 score for the test set.\n",
        "weighted_f1_score = f1_score(y_test, test_preds, average='weighted')\n",
        "print(\"Weighted F1 score:\", weighted_f1_score)"
      ]
    },
    {
      "cell_type": "markdown",
      "source": [
        "### Accuracy: 64.48 %\n"
      ],
      "metadata": {
        "id": "0N7c5riE3KN2"
      }
    },
    {
      "cell_type": "markdown",
      "source": [
        "\n",
        "### F1 Score: 64.58"
      ],
      "metadata": {
        "id": "ImRDvOF83mRL"
      }
    },
    {
      "cell_type": "markdown",
      "source": [
        "Optimal Hyperparameter for Decision Tree Model"
      ],
      "metadata": {
        "id": "y44Vtb9x2-4D"
      }
    },
    {
      "cell_type": "code",
      "source": [
        "from sklearn.tree import DecisionTreeClassifier\n",
        "from sklearn.metrics import classification_report, accuracy_score, f1_score\n",
        "from sklearn.model_selection import GridSearchCV\n",
        "\n",
        "# Define the hyperparameters to tune\n",
        "hyperparams = {'criterion': ['gini', 'entropy'],\n",
        "               'min_samples_split': [2, 5, 10, 15, 20],\n",
        "               'max_depth': [None, 5, 10, 15, 20]}\n",
        "\n",
        "# Create a Decision Tree Classifier object\n",
        "DTC = DecisionTreeClassifier()\n",
        "\n",
        "# Use GridSearchCV to find the best hyperparameters\n",
        "grid = GridSearchCV(DTC, hyperparams, scoring='f1_weighted', cv=5)\n",
        "grid.fit(X_res, y_res)\n",
        "\n",
        "# Print the best hyperparameters and corresponding weighted F1 score\n",
        "print(\"Best hyperparameters:\", grid.best_params_)\n",
        "print(\"Best weighted F1 score:\", grid.best_score_)\n",
        "\n",
        "# Initialize a Decision Tree Classifier object with the best hyperparameters\n",
        "DTC_best = DecisionTreeClassifier(**grid.best_params_)\n",
        "\n",
        "# Fit the optimized DTC on the balanced training set (X_res, y_res)\n",
        "DTC_best.fit(X_res, y_res)\n",
        "\n",
        "# Predict the target class on the balanced training and test set\n",
        "train_preds = DTC_best.predict(X_res)\n",
        "test_preds = DTC_best.predict(X_test)\n",
        "\n",
        "# Evaluate the optimized model's performance using classification report, accuracy score, and weighted F1 score\n",
        "print('Train results: \\n')\n",
        "print(classification_report(y_res, train_preds))\n",
        "print('Test results: \\n')\n",
        "print(classification_report(y_test, test_preds))\n",
        "print(\"Accuracy:\", accuracy_score(y_test, test_preds))\n",
        "weighted_f1_score = f1_score(y_test, test_preds, average='weighted')\n",
        "print(\"Weighted F1 score:\", weighted_f1_score)"
      ],
      "metadata": {
        "colab": {
          "base_uri": "https://localhost:8080/"
        },
        "id": "xVpsG1_ToZkr",
        "outputId": "8869b4d3-68f2-4fcd-f41f-1e3dba41b40d"
      },
      "execution_count": null,
      "outputs": [
        {
          "output_type": "stream",
          "name": "stdout",
          "text": [
            "Best hyperparameters: {'criterion': 'entropy', 'max_depth': None, 'min_samples_split': 2}\n",
            "Best weighted F1 score: 0.7549928644765611\n",
            "Train results: \n",
            "\n",
            "              precision    recall  f1-score   support\n",
            "\n",
            "           0       1.00      1.00      1.00    496542\n",
            "           1       1.00      1.00      1.00    496542\n",
            "           2       1.00      1.00      1.00    496542\n",
            "\n",
            "    accuracy                           1.00   1489626\n",
            "   macro avg       1.00      1.00      1.00   1489626\n",
            "weighted avg       1.00      1.00      1.00   1489626\n",
            "\n",
            "Test results: \n",
            "\n",
            "              precision    recall  f1-score   support\n",
            "\n",
            "           0       0.78      0.74      0.76    244522\n",
            "           1       0.39      0.44      0.41     24772\n",
            "           2       0.32      0.35      0.33     75597\n",
            "\n",
            "    accuracy                           0.63    344891\n",
            "   macro avg       0.49      0.51      0.50    344891\n",
            "weighted avg       0.65      0.63      0.64    344891\n",
            "\n",
            "Accuracy: 0.6328782136965012\n",
            "Weighted F1 score: 0.6394144512046775\n"
          ]
        }
      ]
    },
    {
      "cell_type": "markdown",
      "metadata": {
        "id": "Joy0VUfX0WbU"
      },
      "source": [
        "## **Best Model**: **Neural Network Model**\n",
        "In the comparison of the **Neural Network model** to Naive Bayes, Random Forest, and Decision Tree models based on accuracy and F1 score, the Neural Network model has the better **accuracy of 72.04 %** and a weighted **F1 score of 72.41**. Naive Bayes had an accuracy of 51.3% and an F1 score of 56.3. Random Forest had a accuracy of 65.5% and an F1 score of 67.16. Decision Tree had an accuracy of 64.48% and an F1 score of 64.58. Overall, the Neural Network model outperformed Naive Bayes and Decision Tree models and had competitive performance compared to the Random Forest model."
      ]
    },
    {
      "cell_type": "markdown",
      "metadata": {
        "id": "SB58Qs40KxpP"
      },
      "source": [
        "# Permutation on Best Model (Neural Network)"
      ]
    },
    {
      "cell_type": "markdown",
      "source": [
        "Neural Network Feature Importance:"
      ],
      "metadata": {
        "id": "CYghDhrM5Uyw"
      }
    },
    {
      "cell_type": "code",
      "execution_count": null,
      "metadata": {
        "colab": {
          "base_uri": "https://localhost:8080/",
          "height": 757
        },
        "id": "4NCu0_HdLLCa",
        "outputId": "0563cb93-c0c8-494f-c39c-2aa27aad91e1"
      },
      "outputs": [
        {
          "data": {
            "image/png": "[encoded data removed]",
            "text/plain": [
              "<Figure size 800x700 with 1 Axes>"
            ]
          },
          "metadata": {},
          "output_type": "display_data"
        }
      ],
      "source": [
        "# Importing the permutation_importance function from scikit-learn's inspection module to calculate feature importance by permuting the values of each feature.\n",
        "from sklearn.inspection import permutation_importance\n",
        "# Assigning the neural network model to the variable clf.\n",
        "clf = nn\n",
        "# Computing the feature importances using permutation importance with clf model, X_res and y_res data and 20 repetitions and random state set to 42. result stores the results of the permutation importance\n",
        "result = permutation_importance(clf, X_res, y_res, n_repeats=20,\n",
        "                                random_state=42)\n",
        "# Sorting the indices of feature importances in ascending order.\n",
        "perm_sorted_idx = result.importances_mean.argsort()\n",
        "# Creating a figure and axis for plotting the boxplot of feature importances.\n",
        "fig, ax1 = plt.subplots(1, 1, figsize=(8, 7))\n",
        "# Plotting the boxplot of feature importances for each feature.\n",
        "ax1.boxplot(result.importances[perm_sorted_idx].T, vert=False,\n",
        "            labels=train_all_cleaned.columns[perm_sorted_idx])\n",
        "# Setting the title of the plot to 'NN Feature Importance'.\n",
        "fig.suptitle('NN Feature Importance', y=1.05)\n",
        "# Automatically adjusting the subplot parameters to fit the plot figure area.\n",
        "fig.tight_layout()\n",
        "# Displaying the plot of feature importances.\n",
        "plt.show()"
      ]
    },
    {
      "cell_type": "markdown",
      "metadata": {
        "id": "a4AKTrWG4sus"
      },
      "source": [
        "**Top 5 Features:**\n",
        "\n",
        "The best model, which is the Neural Network, identified the top features through permutation importance analysis as:\n",
        "\n",
        "1. **Credit:** Financial credit level of the policyholder.\n",
        "2. **Sales Channel:** Medium through which the policy was obtained.\n",
        "3. **ni.age:** Age of the policyholder.\n",
        "4. **n.children:** Number of children in the property.\n",
        "5. **Year:** The year in which the policy was issued.\n",
        "\n",
        "These features were found to have the greatest impact on the performance of the model in predicting the outcome of interest. By prioritizing these factors, businesses can focus their resources and efforts on improving these areas to maximize the accuracy and effectiveness of their policies."
      ]
    },
    {
      "cell_type": "markdown",
      "metadata": {
        "id": "jFveGO6uQtlR"
      },
      "source": [
        "# PDP & ICE Plots: Top Features"
      ]
    },
    {
      "cell_type": "code",
      "execution_count": null,
      "metadata": {
        "colab": {
          "base_uri": "https://localhost:8080/"
        },
        "id": "U8SD57GsMVa6",
        "outputId": "ad2f95b5-d4f0-4764-a6b7-bea41b0ea3a9"
      },
      "outputs": [
        {
          "name": "stdout",
          "output_type": "stream",
          "text": [
            "Looking in indexes: https://pypi.org/simple, https://us-python.pkg.dev/colab-wheels/public/simple/\n",
            "Requirement already satisfied: pulp in /usr/local/lib/python3.10/dist-packages (2.7.0)\n",
            "Looking in indexes: https://pypi.org/simple, https://us-python.pkg.dev/colab-wheels/public/simple/\n",
            "Requirement already satisfied: pycebox in /usr/local/lib/python3.10/dist-packages (0.0.1)\n",
            "Requirement already satisfied: matplotlib in /usr/local/lib/python3.10/dist-packages (from pycebox) (3.7.1)\n",
            "Requirement already satisfied: six in /usr/local/lib/python3.10/dist-packages (from pycebox) (1.16.0)\n",
            "Requirement already satisfied: numpy in /usr/local/lib/python3.10/dist-packages (from pycebox) (1.22.4)\n",
            "Requirement already satisfied: pandas in /usr/local/lib/python3.10/dist-packages (from pycebox) (1.5.3)\n",
            "Requirement already satisfied: python-dateutil>=2.7 in /usr/local/lib/python3.10/dist-packages (from matplotlib->pycebox) (2.8.2)\n",
            "Requirement already satisfied: packaging>=20.0 in /usr/local/lib/python3.10/dist-packages (from matplotlib->pycebox) (23.1)\n",
            "Requirement already satisfied: contourpy>=1.0.1 in /usr/local/lib/python3.10/dist-packages (from matplotlib->pycebox) (1.0.7)\n",
            "Requirement already satisfied: pyparsing>=2.3.1 in /usr/local/lib/python3.10/dist-packages (from matplotlib->pycebox) (3.0.9)\n",
            "Requirement already satisfied: cycler>=0.10 in /usr/local/lib/python3.10/dist-packages (from matplotlib->pycebox) (0.11.0)\n",
            "Requirement already satisfied: fonttools>=4.22.0 in /usr/local/lib/python3.10/dist-packages (from matplotlib->pycebox) (4.39.3)\n",
            "Requirement already satisfied: kiwisolver>=1.0.1 in /usr/local/lib/python3.10/dist-packages (from matplotlib->pycebox) (1.4.4)\n",
            "Requirement already satisfied: pillow>=6.2.0 in /usr/local/lib/python3.10/dist-packages (from matplotlib->pycebox) (8.4.0)\n",
            "Requirement already satisfied: pytz>=2020.1 in /usr/local/lib/python3.10/dist-packages (from pandas->pycebox) (2022.7.1)\n"
          ]
        }
      ],
      "source": [
        "# Installing pulp and pycebox libraries\n",
        "!pip install pulp\n",
        "!pip install pycebox\n",
        "# Importing ice plots from pycebox\n",
        "from pycebox.ice import ice, ice_plot"
      ]
    },
    {
      "cell_type": "code",
      "execution_count": null,
      "metadata": {
        "colab": {
          "base_uri": "https://localhost:8080/",
          "height": 270
        },
        "id": "OY3tdHcVQxbC",
        "outputId": "c3f09f4e-c849-40f8-8eb1-db24a90cf5b9"
      },
      "outputs": [
        {
          "data": {
            "text/html": [
              "\n",
              "  <div id=\"df-a1cd335d-d7d9-42f2-99df-fc680185a0fa\">\n",
              "    <div class=\"colab-df-container\">\n",
              "      <div>\n",
              "<style scoped>\n",
              "    .dataframe tbody tr th:only-of-type {\n",
              "        vertical-align: middle;\n",
              "    }\n",
              "\n",
              "    .dataframe tbody tr th {\n",
              "        vertical-align: top;\n",
              "    }\n",
              "\n",
              "    .dataframe thead th {\n",
              "        text-align: right;\n",
              "    }\n",
              "</style>\n",
              "<table border=\"1\" class=\"dataframe\">\n",
              "  <thead>\n",
              "    <tr style=\"text-align: right;\">\n",
              "      <th></th>\n",
              "      <th>year</th>\n",
              "      <th>zip.code</th>\n",
              "      <th>house.color</th>\n",
              "      <th>ni.age</th>\n",
              "      <th>len.at.res</th>\n",
              "      <th>credit</th>\n",
              "      <th>coverage.type</th>\n",
              "      <th>dwelling.type</th>\n",
              "      <th>premium</th>\n",
              "      <th>sales.channel</th>\n",
              "      <th>ni.gender</th>\n",
              "      <th>ni.marital.status</th>\n",
              "      <th>n.adults</th>\n",
              "      <th>n.children</th>\n",
              "      <th>tenure</th>\n",
              "      <th>claim.ind</th>\n",
              "    </tr>\n",
              "  </thead>\n",
              "  <tbody>\n",
              "    <tr>\n",
              "      <th>0</th>\n",
              "      <td>-1.466296</td>\n",
              "      <td>-1.691892</td>\n",
              "      <td>1.772887</td>\n",
              "      <td>0.925721</td>\n",
              "      <td>-0.047548</td>\n",
              "      <td>-0.729216</td>\n",
              "      <td>-1.243908</td>\n",
              "      <td>0.062756</td>\n",
              "      <td>0.458441</td>\n",
              "      <td>1.350753</td>\n",
              "      <td>-1.042437</td>\n",
              "      <td>0.638255</td>\n",
              "      <td>-0.905117</td>\n",
              "      <td>-0.315779</td>\n",
              "      <td>0.391017</td>\n",
              "      <td>-0.498879</td>\n",
              "    </tr>\n",
              "    <tr>\n",
              "      <th>1</th>\n",
              "      <td>-0.566797</td>\n",
              "      <td>0.630322</td>\n",
              "      <td>-0.288907</td>\n",
              "      <td>1.330440</td>\n",
              "      <td>0.390660</td>\n",
              "      <td>1.702992</td>\n",
              "      <td>-1.243908</td>\n",
              "      <td>0.062756</td>\n",
              "      <td>-0.827034</td>\n",
              "      <td>1.350753</td>\n",
              "      <td>-1.042437</td>\n",
              "      <td>0.638255</td>\n",
              "      <td>-0.905117</td>\n",
              "      <td>-0.315779</td>\n",
              "      <td>0.896866</td>\n",
              "      <td>-0.498879</td>\n",
              "    </tr>\n",
              "    <tr>\n",
              "      <th>2</th>\n",
              "      <td>-0.566797</td>\n",
              "      <td>0.808641</td>\n",
              "      <td>0.741990</td>\n",
              "      <td>0.359114</td>\n",
              "      <td>-0.047548</td>\n",
              "      <td>-0.729216</td>\n",
              "      <td>-1.243908</td>\n",
              "      <td>-1.450781</td>\n",
              "      <td>0.753995</td>\n",
              "      <td>-0.813798</td>\n",
              "      <td>0.959290</td>\n",
              "      <td>0.638255</td>\n",
              "      <td>-0.905117</td>\n",
              "      <td>-0.742795</td>\n",
              "      <td>-0.114831</td>\n",
              "      <td>2.006380</td>\n",
              "    </tr>\n",
              "    <tr>\n",
              "      <th>3</th>\n",
              "      <td>-0.566797</td>\n",
              "      <td>0.810392</td>\n",
              "      <td>-0.288907</td>\n",
              "      <td>1.087609</td>\n",
              "      <td>-0.047548</td>\n",
              "      <td>-0.729216</td>\n",
              "      <td>-1.243908</td>\n",
              "      <td>0.062756</td>\n",
              "      <td>0.818528</td>\n",
              "      <td>1.350753</td>\n",
              "      <td>-1.042437</td>\n",
              "      <td>0.638255</td>\n",
              "      <td>-0.106800</td>\n",
              "      <td>-0.315779</td>\n",
              "      <td>1.234098</td>\n",
              "      <td>-0.498879</td>\n",
              "    </tr>\n",
              "    <tr>\n",
              "      <th>4</th>\n",
              "      <td>-1.466296</td>\n",
              "      <td>0.811322</td>\n",
              "      <td>0.741990</td>\n",
              "      <td>-0.126550</td>\n",
              "      <td>0.171556</td>\n",
              "      <td>-0.729216</td>\n",
              "      <td>-0.092197</td>\n",
              "      <td>0.062756</td>\n",
              "      <td>-1.248643</td>\n",
              "      <td>-0.813798</td>\n",
              "      <td>-1.042437</td>\n",
              "      <td>0.638255</td>\n",
              "      <td>-0.106800</td>\n",
              "      <td>0.111236</td>\n",
              "      <td>0.053785</td>\n",
              "      <td>-0.498879</td>\n",
              "    </tr>\n",
              "  </tbody>\n",
              "</table>\n",
              "</div>\n",
              "      <button class=\"colab-df-convert\" onclick=\"convertToInteractive('df-a1cd335d-d7d9-42f2-99df-fc680185a0fa')\"\n",
              "              title=\"Convert this dataframe to an interactive table.\"\n",
              "              style=\"display:none;\">\n",
              "        \n",
              "  <svg xmlns=\"http://www.w3.org/2000/svg\" height=\"24px\"viewBox=\"0 0 24 24\"\n",
              "       width=\"24px\">\n",
              "    <path d=\"M0 0h24v24H0V0z\" fill=\"none\"/>\n",
              "    <path d=\"M18.56 5.44l.94 2.06.94-2.06 2.06-.94-2.06-.94-.94-2.06-.94 2.06-2.06.94zm-11 1L8.5 8.5l.94-2.06 2.06-.94-2.06-.94L8.5 2.5l-.94 2.06-2.06.94zm10 10l.94 2.06.94-2.06 2.06-.94-2.06-.94-.94-2.06-.94 2.06-2.06.94z\"/><path d=\"M17.41 7.96l-1.37-1.37c-.4-.4-.92-.59-1.43-.59-.52 0-1.04.2-1.43.59L10.3 9.45l-7.72 7.72c-.78.78-.78 2.05 0 2.83L4 21.41c.39.39.9.59 1.41.59.51 0 1.02-.2 1.41-.59l7.78-7.78 2.81-2.81c.8-.78.8-2.07 0-2.86zM5.41 20L4 18.59l7.72-7.72 1.47 1.35L5.41 20z\"/>\n",
              "  </svg>\n",
              "      </button>\n",
              "      \n",
              "  <style>\n",
              "    .colab-df-container {\n",
              "      display:flex;\n",
              "      flex-wrap:wrap;\n",
              "      gap: 12px;\n",
              "    }\n",
              "\n",
              "    .colab-df-convert {\n",
              "      background-color: #E8F0FE;\n",
              "      border: none;\n",
              "      border-radius: 50%;\n",
              "      cursor: pointer;\n",
              "      display: none;\n",
              "      fill: #1967D2;\n",
              "      height: 32px;\n",
              "      padding: 0 0 0 0;\n",
              "      width: 32px;\n",
              "    }\n",
              "\n",
              "    .colab-df-convert:hover {\n",
              "      background-color: #E2EBFA;\n",
              "      box-shadow: 0px 1px 2px rgba(60, 64, 67, 0.3), 0px 1px 3px 1px rgba(60, 64, 67, 0.15);\n",
              "      fill: #174EA6;\n",
              "    }\n",
              "\n",
              "    [theme=dark] .colab-df-convert {\n",
              "      background-color: #3B4455;\n",
              "      fill: #D2E3FC;\n",
              "    }\n",
              "\n",
              "    [theme=dark] .colab-df-convert:hover {\n",
              "      background-color: #434B5C;\n",
              "      box-shadow: 0px 1px 3px 1px rgba(0, 0, 0, 0.15);\n",
              "      filter: drop-shadow(0px 1px 2px rgba(0, 0, 0, 0.3));\n",
              "      fill: #FFFFFF;\n",
              "    }\n",
              "  </style>\n",
              "\n",
              "      <script>\n",
              "        const buttonEl =\n",
              "          document.querySelector('#df-a1cd335d-d7d9-42f2-99df-fc680185a0fa button.colab-df-convert');\n",
              "        buttonEl.style.display =\n",
              "          google.colab.kernel.accessAllowed ? 'block' : 'none';\n",
              "\n",
              "        async function convertToInteractive(key) {\n",
              "          const element = document.querySelector('#df-a1cd335d-d7d9-42f2-99df-fc680185a0fa');\n",
              "          const dataTable =\n",
              "            await google.colab.kernel.invokeFunction('convertToInteractive',\n",
              "                                                     [key], {});\n",
              "          if (!dataTable) return;\n",
              "\n",
              "          const docLinkHtml = 'Like what you see? Visit the ' +\n",
              "            '<a target=\"_blank\" href=https://colab.research.google.com/notebooks/data_table.ipynb>data table notebook</a>'\n",
              "            + ' to learn more about interactive tables.';\n",
              "          element.innerHTML = '';\n",
              "          dataTable['output_type'] = 'display_data';\n",
              "          await google.colab.output.renderOutput(dataTable, element);\n",
              "          const docLink = document.createElement('div');\n",
              "          docLink.innerHTML = docLinkHtml;\n",
              "          element.appendChild(docLink);\n",
              "        }\n",
              "      </script>\n",
              "    </div>\n",
              "  </div>\n",
              "  "
            ],
            "text/plain": [
              "       year  zip.code  house.color    ni.age  len.at.res    credit  \\\n",
              "0 -1.466296 -1.691892     1.772887  0.925721   -0.047548 -0.729216   \n",
              "1 -0.566797  0.630322    -0.288907  1.330440    0.390660  1.702992   \n",
              "2 -0.566797  0.808641     0.741990  0.359114   -0.047548 -0.729216   \n",
              "3 -0.566797  0.810392    -0.288907  1.087609   -0.047548 -0.729216   \n",
              "4 -1.466296  0.811322     0.741990 -0.126550    0.171556 -0.729216   \n",
              "\n",
              "   coverage.type  dwelling.type   premium  sales.channel  ni.gender  \\\n",
              "0      -1.243908       0.062756  0.458441       1.350753  -1.042437   \n",
              "1      -1.243908       0.062756 -0.827034       1.350753  -1.042437   \n",
              "2      -1.243908      -1.450781  0.753995      -0.813798   0.959290   \n",
              "3      -1.243908       0.062756  0.818528       1.350753  -1.042437   \n",
              "4      -0.092197       0.062756 -1.248643      -0.813798  -1.042437   \n",
              "\n",
              "   ni.marital.status  n.adults  n.children    tenure  claim.ind  \n",
              "0           0.638255 -0.905117   -0.315779  0.391017  -0.498879  \n",
              "1           0.638255 -0.905117   -0.315779  0.896866  -0.498879  \n",
              "2           0.638255 -0.905117   -0.742795 -0.114831   2.006380  \n",
              "3           0.638255 -0.106800   -0.315779  1.234098  -0.498879  \n",
              "4           0.638255 -0.106800    0.111236  0.053785  -0.498879  "
            ]
          },
          "execution_count": 34,
          "metadata": {},
          "output_type": "execute_result"
        }
      ],
      "source": [
        "# Creating the a new df\n",
        "X_df = pd.DataFrame(X_train, columns=df1.columns)\n",
        "X_df.head()"
      ]
    },
    {
      "cell_type": "code",
      "execution_count": null,
      "metadata": {
        "colab": {
          "base_uri": "https://localhost:8080/",
          "height": 472
        },
        "id": "ezyQ-vR5SSJC",
        "outputId": "8ccf6b2d-9530-43bc-bf61-cf7f01d5bfe5"
      },
      "outputs": [
        {
          "data": {
            "image/png": "[encoded data removed]",
            "text/plain": [
              "<Figure size 640x480 with 1 Axes>"
            ]
          },
          "metadata": {},
          "output_type": "display_data"
        }
      ],
      "source": [
        "# Computes and visualizes the Individual Conditional Expectation (ICE) curves and Partial Dependence Plot (PDP) for the 'ni.age' feature using the PyCEBox library\n",
        "tmpdf = ice(data=X_df, column='ni.age',\n",
        "                   predict=nb_model.predict,\n",
        "            num_grid_points=10)\n",
        "\n",
        "ice_plot(tmpdf, c='dimgray', linewidth=0.3,\n",
        "                  plot_pdp=True,\n",
        "         pdp_kwargs={'linewidth': 5, 'color':'red'})\n",
        "# Sets the title of the plot to 'PDP: ni.age'.\n",
        "plt.title('PDP: ni.age')\n",
        "# Sets the y-axis label to 'Insurance Cancellation'.\n",
        "plt.ylabel('Insurance Cancellation')\n",
        "# Sets the x-axis label to 'ni.age'.\n",
        "plt.xlabel('ni.age');\n",
        "# Displays the plot of ICE curves and PDP.\n",
        "plt.show()"
      ]
    },
    {
      "cell_type": "code",
      "execution_count": null,
      "metadata": {
        "colab": {
          "base_uri": "https://localhost:8080/",
          "height": 472
        },
        "id": "nFv0aeVOfGAm",
        "outputId": "5170a90e-8baa-4472-d9be-6896bb33aa78"
      },
      "outputs": [
        {
          "data": {
            "image/png": "[encoded data removed]",
            "text/plain": [
              "<Figure size 640x480 with 1 Axes>"
            ]
          },
          "metadata": {},
          "output_type": "display_data"
        }
      ],
      "source": [
        "# Computes and visualizes the Individual Conditional Expectation (ICE) curves and Partial Dependence Plot (PDP) for the 'credit' feature using the PyCEBox library\n",
        "tmpdf = ice(data=X_df, column='credit',\n",
        "                   predict=nn.predict,\n",
        "            num_grid_points=10)\n",
        "\n",
        "ice_plot(tmpdf, c='dimgray', linewidth=0.3,\n",
        "                  plot_pdp=True,\n",
        "         pdp_kwargs={'linewidth': 5, 'color':'red'})\n",
        "# Sets the title of the plot to 'PDP: credit'.\n",
        "plt.title('PDP: credit')\n",
        "# Sets the y-axis label to 'Insurance Cancellation'.\n",
        "plt.ylabel('Insurance Cancellation')\n",
        "# Sets the x-axis label to 'credit'.\n",
        "plt.xlabel('credit');\n",
        "# Displays the plot of ICE curves and PDP.\n",
        "plt.show()"
      ]
    },
    {
      "cell_type": "code",
      "execution_count": null,
      "metadata": {
        "colab": {
          "base_uri": "https://localhost:8080/",
          "height": 472
        },
        "id": "rwk7b2-us0SV",
        "outputId": "63352c38-7e6b-48de-8812-5b318f04fbdc"
      },
      "outputs": [
        {
          "data": {
            "image/png": "[encoded data removed]",
            "text/plain": [
              "<Figure size 640x480 with 1 Axes>"
            ]
          },
          "metadata": {},
          "output_type": "display_data"
        }
      ],
      "source": [
        "# Computes and visualizes the Individual Conditional Expectation (ICE) curves and Partial Dependence Plot (PDP) for the 'sales.channel' feature using the PyCEBox library\n",
        "tmpdf = ice(data=X_df, column='sales.channel',\n",
        "                   predict=nn.predict,\n",
        "            num_grid_points=10)\n",
        "\n",
        "ice_plot(tmpdf, c='dimgray', linewidth=0.3,\n",
        "                  plot_pdp=True,\n",
        "         pdp_kwargs={'linewidth': 5, 'color':'red'})\n",
        "# Sets the title of the plot to 'PDP: sales.channel'.\n",
        "plt.title('PDP: sales.channel')\n",
        "# Sets the y-axis label to 'Insurance Cancellation'.\n",
        "plt.ylabel('Insurance Cancellation')\n",
        "# Sets the x-axis label to 'sales.channel'.\n",
        "plt.xlabel('sales.channel');\n",
        "# Displays the plot of ICE curves and PDP.\n",
        "plt.show()"
      ]
    },
    {
      "cell_type": "code",
      "execution_count": null,
      "metadata": {
        "colab": {
          "base_uri": "https://localhost:8080/",
          "height": 472
        },
        "id": "AtRC-EeH71cz",
        "outputId": "350818d7-4f78-421e-ae44-27d676615b45"
      },
      "outputs": [
        {
          "data": {
            "image/png": "[encoded data removed]",
            "text/plain": [
              "<Figure size 640x480 with 1 Axes>"
            ]
          },
          "metadata": {},
          "output_type": "display_data"
        }
      ],
      "source": [
        "# Computes and visualizes the Individual Conditional Expectation (ICE) curves and Partial Dependence Plot (PDP) for the 'n.children' feature using the PyCEBox library\n",
        "tmpdf = ice(data=X_df, column='n.children',\n",
        "                   predict=nn.predict,\n",
        "            num_grid_points=20)\n",
        "\n",
        "ice_plot(tmpdf, c='dimgray', linewidth=0.3,\n",
        "                  plot_pdp=True,\n",
        "         pdp_kwargs={'linewidth': 5, 'color':'red'})\n",
        "# Sets the title of the plot to 'PDP: n.children'.\n",
        "plt.title('PDP: n.children')\n",
        "# Sets the y-axis label to 'Insurance Cancellation'.\n",
        "plt.ylabel('Insurance Cancellation')\n",
        "# Sets the x-axis label to 'n.children'.\n",
        "plt.xlabel('n.children');\n",
        "# Displays the plot of ICE curves and PDP.\n",
        "plt.show()"
      ]
    },
    {
      "cell_type": "code",
      "execution_count": null,
      "metadata": {
        "colab": {
          "base_uri": "https://localhost:8080/",
          "height": 472
        },
        "id": "Athp4GCsJ-KK",
        "outputId": "e804000a-3a46-4019-aebc-0cb48337818a"
      },
      "outputs": [
        {
          "data": {
            "image/png": "[encoded data removed]",
            "text/plain": [
              "<Figure size 640x480 with 1 Axes>"
            ]
          },
          "metadata": {},
          "output_type": "display_data"
        }
      ],
      "source": [
        "# Computes and visualizes the Individual Conditional Expectation (ICE) curves and Partial Dependence Plot (PDP) for the 'year' feature using the PyCEBox library\n",
        "tmpdf = ice(data=X_df, column='year',\n",
        "                   predict=nn.predict,\n",
        "            num_grid_points=20)\n",
        "\n",
        "ice_plot(tmpdf, c='dimgray', linewidth=0.3,\n",
        "                  plot_pdp=True,\n",
        "         pdp_kwargs={'linewidth': 5, 'color':'red'})\n",
        "# Sets the title of the plot to 'PDP: year'.\n",
        "plt.title('PDP: year')\n",
        "# Sets the y-axis label to 'Insurance Cancellation'.\n",
        "plt.ylabel('Insurance Cancellation')\n",
        "# Sets the x-axis label to 'year'.\n",
        "plt.xlabel('year');\n",
        "# Displays the plot of ICE curves and PDP.\n",
        "plt.show()"
      ]
    },
    {
      "cell_type": "markdown",
      "metadata": {
        "id": "TjK-HPZ0d3Tp"
      },
      "source": [
        "# **Conclusion: Business Insights**"
      ]
    },
    {
      "cell_type": "markdown",
      "metadata": {
        "id": "DmAmmDJjy0R1"
      },
      "source": [
        "1. Age plays a significant role in insurance policy cancellation. Companies can target younger customers and educate them about the benefits of insurance policies to increase their likelihood of retention over time.\n",
        "\n",
        "2. Credit score is an important factor in insurance policy cancellation. Companies can offer incentives to customers with ideal to maximum credit scores to encourage policy retention.\n",
        "\n",
        "3. Multiple sales channels can lead to confusion among policyholders and increase the likelihood of policy cancellation. Companies should focus on developing a reliable and user-friendly sales channel to reduce confusion and increase customer satisfaction.\n",
        "\n",
        "4. The number of children in a family can impact the affordability of insurance policies and increase the likelihood of cancellation. Offering flexible and affordable family policies can help organizations retain customers with larger families.\n",
        "\n",
        "5. A focused effort on customer education and awareness can lead to a decrease in policy cancellations and an increase in customer loyalty. Insurance companies should prioritize educating their customers about the value of their policies to maintain a stable and growing customer base over time."
      ]
    },
    {
      "cell_type": "markdown",
      "source": [
        "To sum up, Insurance policy cancellation can be influenced by various factors such as age, credit score, number of children in a family, and multiple sales channels. To reduce policy cancellation rates, insurance companies can offer incentives to customers with ideal to maximum credit scores, focus on developing a reliable and user-friendly sales channel, and offer flexible and affordable family policies. Moreover, a focused effort on customer education and awareness about the value of their policies can lead to a decrease in policy cancellations and an increase in customer loyalty. It is also essential to target younger customers and educate them about the benefits of insurance policies to increase their likelihood of retention over time. Additionally, companies can focus on customers who take the most policies and deliver lucrative benefits to them to prevent policy cancellation. Finally, the majority of policies are taken out by married policyholders, men, through brokers, belonging to the dwelling type house, coverage type C, and policyholders with excellent credit, with no claims history."
      ],
      "metadata": {
        "id": "zFB69ZCm1RRw"
      }
    }
  ],
  "metadata": {
    "colab": {
      "provenance": []
    },
    "kernelspec": {
      "display_name": "Python 3",
      "name": "python3"
    },
    "language_info": {
      "name": "python"
    }
  },
  "nbformat": 4,
  "nbformat_minor": 0
}